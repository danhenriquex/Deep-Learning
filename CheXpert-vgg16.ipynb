{
  "cells": [
    {
      "cell_type": "code",
      "execution_count": 99,
      "metadata": {
        "id": "64DeiRDnN066"
      },
      "outputs": [],
      "source": [
        "import tensorflow.compat.v2 as tf\n",
        "\n",
        "from keras import backend\n",
        "from keras.applications import imagenet_utils\n",
        "from keras.engine import training\n",
        "from keras.layers import VersionAwareLayers\n",
        "from keras.utils import data_utils\n",
        "from keras.utils import layer_utils\n",
        "import tensorflow as tf\n",
        "from tensorflow.keras.applications.vgg16 import VGG16\n",
        "from tensorflow.keras.layers import Dense, Flatten\n",
        "from tensorflow.keras.models import Sequential\n",
        "import matplotlib.pyplot as plt\n",
        "import tensorflow_hub as hub\n",
        "import numpy as np\n",
        "import os\n",
        "import PIL\n",
        "import tensorflow as tf\n",
        "import datetime\n",
        "from tensorflow import keras\n",
        "from tensorflow.keras import layers\n",
        "from tensorflow.keras.models import Sequential\n",
        "from tensorflow.keras import layers\n",
        "from tensorflow.keras import initializers"
      ]
    },
    {
      "cell_type": "code",
      "execution_count": 100,
      "metadata": {
        "id": "fHsm3Nj0N5vY"
      },
      "outputs": [],
      "source": [
        "# Checkout the labels of our data\n",
        "import pandas as pd\n",
        "df = pd.read_csv(\"/content/drive/MyDrive/Deep-Learning/CheXpert-v1.0-small/train.csv\")\n",
        "df = df[:15000]"
      ]
    },
    {
      "cell_type": "code",
      "execution_count": 101,
      "metadata": {
        "colab": {
          "base_uri": "https://localhost:8080/",
          "height": 424
        },
        "id": "liGoxx4J-5bu",
        "outputId": "83f0df51-9674-4f61-9255-29e02e7cfd8f"
      },
      "outputs": [
        {
          "output_type": "execute_result",
          "data": {
            "text/plain": [
              "                                                    Path     Sex  Age  \\\n",
              "0      CheXpert-v1.0-small/train/patient00001/study1/...  Female   68   \n",
              "1      CheXpert-v1.0-small/train/patient00002/study2/...  Female   87   \n",
              "2      CheXpert-v1.0-small/train/patient00002/study1/...  Female   83   \n",
              "3      CheXpert-v1.0-small/train/patient00002/study1/...  Female   83   \n",
              "4      CheXpert-v1.0-small/train/patient00003/study1/...    Male   41   \n",
              "...                                                  ...     ...  ...   \n",
              "14995  CheXpert-v1.0-small/train/patient03732/study1/...    Male   38   \n",
              "14996  CheXpert-v1.0-small/train/patient03732/study1/...    Male   38   \n",
              "14997  CheXpert-v1.0-small/train/patient03733/study1/...    Male   70   \n",
              "14998  CheXpert-v1.0-small/train/patient03733/study1/...    Male   70   \n",
              "14999  CheXpert-v1.0-small/train/patient03734/study1/...    Male   45   \n",
              "\n",
              "      Frontal/Lateral AP/PA  No Finding  Enlarged Cardiomediastinum  \\\n",
              "0             Frontal    AP         1.0                         NaN   \n",
              "1             Frontal    AP         NaN                         NaN   \n",
              "2             Frontal    AP         NaN                         NaN   \n",
              "3             Lateral   NaN         NaN                         NaN   \n",
              "4             Frontal    AP         NaN                         NaN   \n",
              "...               ...   ...         ...                         ...   \n",
              "14995         Frontal    PA         NaN                         0.0   \n",
              "14996         Lateral   NaN         NaN                         0.0   \n",
              "14997         Frontal    PA         NaN                         NaN   \n",
              "14998         Lateral   NaN         NaN                         NaN   \n",
              "14999         Frontal    PA         NaN                         0.0   \n",
              "\n",
              "       Cardiomegaly  Lung Opacity  Lung Lesion  Edema  Consolidation  \\\n",
              "0               NaN           NaN          NaN    NaN            NaN   \n",
              "1              -1.0           1.0          NaN   -1.0           -1.0   \n",
              "2               NaN           1.0          NaN    NaN           -1.0   \n",
              "3               NaN           1.0          NaN    NaN           -1.0   \n",
              "4               NaN           NaN          NaN    1.0            NaN   \n",
              "...             ...           ...          ...    ...            ...   \n",
              "14995           NaN           NaN          NaN    NaN            0.0   \n",
              "14996           NaN           NaN          NaN    NaN            0.0   \n",
              "14997           NaN           1.0          NaN    NaN            NaN   \n",
              "14998           NaN           1.0          NaN    NaN            NaN   \n",
              "14999           NaN           1.0          NaN    NaN            NaN   \n",
              "\n",
              "       Pneumonia  Atelectasis  Pneumothorax  Pleural Effusion  Pleural Other  \\\n",
              "0            NaN          NaN           0.0               NaN            NaN   \n",
              "1            NaN         -1.0           NaN              -1.0            NaN   \n",
              "2            NaN          NaN           NaN               NaN            NaN   \n",
              "3            NaN          NaN           NaN               NaN            NaN   \n",
              "4            NaN          NaN           0.0               NaN            NaN   \n",
              "...          ...          ...           ...               ...            ...   \n",
              "14995        NaN          NaN           0.0               0.0            NaN   \n",
              "14996        NaN          NaN           0.0               0.0            NaN   \n",
              "14997       -1.0          NaN           NaN               1.0            NaN   \n",
              "14998       -1.0          NaN           NaN               1.0            NaN   \n",
              "14999       -1.0          NaN           0.0               0.0            NaN   \n",
              "\n",
              "       Fracture  Support Devices  \n",
              "0           NaN              1.0  \n",
              "1           1.0              NaN  \n",
              "2           1.0              NaN  \n",
              "3           1.0              NaN  \n",
              "4           NaN              NaN  \n",
              "...         ...              ...  \n",
              "14995       1.0              NaN  \n",
              "14996       1.0              NaN  \n",
              "14997       NaN              NaN  \n",
              "14998       NaN              NaN  \n",
              "14999       NaN              NaN  \n",
              "\n",
              "[15000 rows x 19 columns]"
            ],
            "text/html": [
              "\n",
              "  <div id=\"df-4307428a-0006-41e7-a410-433890593774\">\n",
              "    <div class=\"colab-df-container\">\n",
              "      <div>\n",
              "<style scoped>\n",
              "    .dataframe tbody tr th:only-of-type {\n",
              "        vertical-align: middle;\n",
              "    }\n",
              "\n",
              "    .dataframe tbody tr th {\n",
              "        vertical-align: top;\n",
              "    }\n",
              "\n",
              "    .dataframe thead th {\n",
              "        text-align: right;\n",
              "    }\n",
              "</style>\n",
              "<table border=\"1\" class=\"dataframe\">\n",
              "  <thead>\n",
              "    <tr style=\"text-align: right;\">\n",
              "      <th></th>\n",
              "      <th>Path</th>\n",
              "      <th>Sex</th>\n",
              "      <th>Age</th>\n",
              "      <th>Frontal/Lateral</th>\n",
              "      <th>AP/PA</th>\n",
              "      <th>No Finding</th>\n",
              "      <th>Enlarged Cardiomediastinum</th>\n",
              "      <th>Cardiomegaly</th>\n",
              "      <th>Lung Opacity</th>\n",
              "      <th>Lung Lesion</th>\n",
              "      <th>Edema</th>\n",
              "      <th>Consolidation</th>\n",
              "      <th>Pneumonia</th>\n",
              "      <th>Atelectasis</th>\n",
              "      <th>Pneumothorax</th>\n",
              "      <th>Pleural Effusion</th>\n",
              "      <th>Pleural Other</th>\n",
              "      <th>Fracture</th>\n",
              "      <th>Support Devices</th>\n",
              "    </tr>\n",
              "  </thead>\n",
              "  <tbody>\n",
              "    <tr>\n",
              "      <th>0</th>\n",
              "      <td>CheXpert-v1.0-small/train/patient00001/study1/...</td>\n",
              "      <td>Female</td>\n",
              "      <td>68</td>\n",
              "      <td>Frontal</td>\n",
              "      <td>AP</td>\n",
              "      <td>1.0</td>\n",
              "      <td>NaN</td>\n",
              "      <td>NaN</td>\n",
              "      <td>NaN</td>\n",
              "      <td>NaN</td>\n",
              "      <td>NaN</td>\n",
              "      <td>NaN</td>\n",
              "      <td>NaN</td>\n",
              "      <td>NaN</td>\n",
              "      <td>0.0</td>\n",
              "      <td>NaN</td>\n",
              "      <td>NaN</td>\n",
              "      <td>NaN</td>\n",
              "      <td>1.0</td>\n",
              "    </tr>\n",
              "    <tr>\n",
              "      <th>1</th>\n",
              "      <td>CheXpert-v1.0-small/train/patient00002/study2/...</td>\n",
              "      <td>Female</td>\n",
              "      <td>87</td>\n",
              "      <td>Frontal</td>\n",
              "      <td>AP</td>\n",
              "      <td>NaN</td>\n",
              "      <td>NaN</td>\n",
              "      <td>-1.0</td>\n",
              "      <td>1.0</td>\n",
              "      <td>NaN</td>\n",
              "      <td>-1.0</td>\n",
              "      <td>-1.0</td>\n",
              "      <td>NaN</td>\n",
              "      <td>-1.0</td>\n",
              "      <td>NaN</td>\n",
              "      <td>-1.0</td>\n",
              "      <td>NaN</td>\n",
              "      <td>1.0</td>\n",
              "      <td>NaN</td>\n",
              "    </tr>\n",
              "    <tr>\n",
              "      <th>2</th>\n",
              "      <td>CheXpert-v1.0-small/train/patient00002/study1/...</td>\n",
              "      <td>Female</td>\n",
              "      <td>83</td>\n",
              "      <td>Frontal</td>\n",
              "      <td>AP</td>\n",
              "      <td>NaN</td>\n",
              "      <td>NaN</td>\n",
              "      <td>NaN</td>\n",
              "      <td>1.0</td>\n",
              "      <td>NaN</td>\n",
              "      <td>NaN</td>\n",
              "      <td>-1.0</td>\n",
              "      <td>NaN</td>\n",
              "      <td>NaN</td>\n",
              "      <td>NaN</td>\n",
              "      <td>NaN</td>\n",
              "      <td>NaN</td>\n",
              "      <td>1.0</td>\n",
              "      <td>NaN</td>\n",
              "    </tr>\n",
              "    <tr>\n",
              "      <th>3</th>\n",
              "      <td>CheXpert-v1.0-small/train/patient00002/study1/...</td>\n",
              "      <td>Female</td>\n",
              "      <td>83</td>\n",
              "      <td>Lateral</td>\n",
              "      <td>NaN</td>\n",
              "      <td>NaN</td>\n",
              "      <td>NaN</td>\n",
              "      <td>NaN</td>\n",
              "      <td>1.0</td>\n",
              "      <td>NaN</td>\n",
              "      <td>NaN</td>\n",
              "      <td>-1.0</td>\n",
              "      <td>NaN</td>\n",
              "      <td>NaN</td>\n",
              "      <td>NaN</td>\n",
              "      <td>NaN</td>\n",
              "      <td>NaN</td>\n",
              "      <td>1.0</td>\n",
              "      <td>NaN</td>\n",
              "    </tr>\n",
              "    <tr>\n",
              "      <th>4</th>\n",
              "      <td>CheXpert-v1.0-small/train/patient00003/study1/...</td>\n",
              "      <td>Male</td>\n",
              "      <td>41</td>\n",
              "      <td>Frontal</td>\n",
              "      <td>AP</td>\n",
              "      <td>NaN</td>\n",
              "      <td>NaN</td>\n",
              "      <td>NaN</td>\n",
              "      <td>NaN</td>\n",
              "      <td>NaN</td>\n",
              "      <td>1.0</td>\n",
              "      <td>NaN</td>\n",
              "      <td>NaN</td>\n",
              "      <td>NaN</td>\n",
              "      <td>0.0</td>\n",
              "      <td>NaN</td>\n",
              "      <td>NaN</td>\n",
              "      <td>NaN</td>\n",
              "      <td>NaN</td>\n",
              "    </tr>\n",
              "    <tr>\n",
              "      <th>...</th>\n",
              "      <td>...</td>\n",
              "      <td>...</td>\n",
              "      <td>...</td>\n",
              "      <td>...</td>\n",
              "      <td>...</td>\n",
              "      <td>...</td>\n",
              "      <td>...</td>\n",
              "      <td>...</td>\n",
              "      <td>...</td>\n",
              "      <td>...</td>\n",
              "      <td>...</td>\n",
              "      <td>...</td>\n",
              "      <td>...</td>\n",
              "      <td>...</td>\n",
              "      <td>...</td>\n",
              "      <td>...</td>\n",
              "      <td>...</td>\n",
              "      <td>...</td>\n",
              "      <td>...</td>\n",
              "    </tr>\n",
              "    <tr>\n",
              "      <th>14995</th>\n",
              "      <td>CheXpert-v1.0-small/train/patient03732/study1/...</td>\n",
              "      <td>Male</td>\n",
              "      <td>38</td>\n",
              "      <td>Frontal</td>\n",
              "      <td>PA</td>\n",
              "      <td>NaN</td>\n",
              "      <td>0.0</td>\n",
              "      <td>NaN</td>\n",
              "      <td>NaN</td>\n",
              "      <td>NaN</td>\n",
              "      <td>NaN</td>\n",
              "      <td>0.0</td>\n",
              "      <td>NaN</td>\n",
              "      <td>NaN</td>\n",
              "      <td>0.0</td>\n",
              "      <td>0.0</td>\n",
              "      <td>NaN</td>\n",
              "      <td>1.0</td>\n",
              "      <td>NaN</td>\n",
              "    </tr>\n",
              "    <tr>\n",
              "      <th>14996</th>\n",
              "      <td>CheXpert-v1.0-small/train/patient03732/study1/...</td>\n",
              "      <td>Male</td>\n",
              "      <td>38</td>\n",
              "      <td>Lateral</td>\n",
              "      <td>NaN</td>\n",
              "      <td>NaN</td>\n",
              "      <td>0.0</td>\n",
              "      <td>NaN</td>\n",
              "      <td>NaN</td>\n",
              "      <td>NaN</td>\n",
              "      <td>NaN</td>\n",
              "      <td>0.0</td>\n",
              "      <td>NaN</td>\n",
              "      <td>NaN</td>\n",
              "      <td>0.0</td>\n",
              "      <td>0.0</td>\n",
              "      <td>NaN</td>\n",
              "      <td>1.0</td>\n",
              "      <td>NaN</td>\n",
              "    </tr>\n",
              "    <tr>\n",
              "      <th>14997</th>\n",
              "      <td>CheXpert-v1.0-small/train/patient03733/study1/...</td>\n",
              "      <td>Male</td>\n",
              "      <td>70</td>\n",
              "      <td>Frontal</td>\n",
              "      <td>PA</td>\n",
              "      <td>NaN</td>\n",
              "      <td>NaN</td>\n",
              "      <td>NaN</td>\n",
              "      <td>1.0</td>\n",
              "      <td>NaN</td>\n",
              "      <td>NaN</td>\n",
              "      <td>NaN</td>\n",
              "      <td>-1.0</td>\n",
              "      <td>NaN</td>\n",
              "      <td>NaN</td>\n",
              "      <td>1.0</td>\n",
              "      <td>NaN</td>\n",
              "      <td>NaN</td>\n",
              "      <td>NaN</td>\n",
              "    </tr>\n",
              "    <tr>\n",
              "      <th>14998</th>\n",
              "      <td>CheXpert-v1.0-small/train/patient03733/study1/...</td>\n",
              "      <td>Male</td>\n",
              "      <td>70</td>\n",
              "      <td>Lateral</td>\n",
              "      <td>NaN</td>\n",
              "      <td>NaN</td>\n",
              "      <td>NaN</td>\n",
              "      <td>NaN</td>\n",
              "      <td>1.0</td>\n",
              "      <td>NaN</td>\n",
              "      <td>NaN</td>\n",
              "      <td>NaN</td>\n",
              "      <td>-1.0</td>\n",
              "      <td>NaN</td>\n",
              "      <td>NaN</td>\n",
              "      <td>1.0</td>\n",
              "      <td>NaN</td>\n",
              "      <td>NaN</td>\n",
              "      <td>NaN</td>\n",
              "    </tr>\n",
              "    <tr>\n",
              "      <th>14999</th>\n",
              "      <td>CheXpert-v1.0-small/train/patient03734/study1/...</td>\n",
              "      <td>Male</td>\n",
              "      <td>45</td>\n",
              "      <td>Frontal</td>\n",
              "      <td>PA</td>\n",
              "      <td>NaN</td>\n",
              "      <td>0.0</td>\n",
              "      <td>NaN</td>\n",
              "      <td>1.0</td>\n",
              "      <td>NaN</td>\n",
              "      <td>NaN</td>\n",
              "      <td>NaN</td>\n",
              "      <td>-1.0</td>\n",
              "      <td>NaN</td>\n",
              "      <td>0.0</td>\n",
              "      <td>0.0</td>\n",
              "      <td>NaN</td>\n",
              "      <td>NaN</td>\n",
              "      <td>NaN</td>\n",
              "    </tr>\n",
              "  </tbody>\n",
              "</table>\n",
              "<p>15000 rows × 19 columns</p>\n",
              "</div>\n",
              "      <button class=\"colab-df-convert\" onclick=\"convertToInteractive('df-4307428a-0006-41e7-a410-433890593774')\"\n",
              "              title=\"Convert this dataframe to an interactive table.\"\n",
              "              style=\"display:none;\">\n",
              "        \n",
              "  <svg xmlns=\"http://www.w3.org/2000/svg\" height=\"24px\"viewBox=\"0 0 24 24\"\n",
              "       width=\"24px\">\n",
              "    <path d=\"M0 0h24v24H0V0z\" fill=\"none\"/>\n",
              "    <path d=\"M18.56 5.44l.94 2.06.94-2.06 2.06-.94-2.06-.94-.94-2.06-.94 2.06-2.06.94zm-11 1L8.5 8.5l.94-2.06 2.06-.94-2.06-.94L8.5 2.5l-.94 2.06-2.06.94zm10 10l.94 2.06.94-2.06 2.06-.94-2.06-.94-.94-2.06-.94 2.06-2.06.94z\"/><path d=\"M17.41 7.96l-1.37-1.37c-.4-.4-.92-.59-1.43-.59-.52 0-1.04.2-1.43.59L10.3 9.45l-7.72 7.72c-.78.78-.78 2.05 0 2.83L4 21.41c.39.39.9.59 1.41.59.51 0 1.02-.2 1.41-.59l7.78-7.78 2.81-2.81c.8-.78.8-2.07 0-2.86zM5.41 20L4 18.59l7.72-7.72 1.47 1.35L5.41 20z\"/>\n",
              "  </svg>\n",
              "      </button>\n",
              "      \n",
              "  <style>\n",
              "    .colab-df-container {\n",
              "      display:flex;\n",
              "      flex-wrap:wrap;\n",
              "      gap: 12px;\n",
              "    }\n",
              "\n",
              "    .colab-df-convert {\n",
              "      background-color: #E8F0FE;\n",
              "      border: none;\n",
              "      border-radius: 50%;\n",
              "      cursor: pointer;\n",
              "      display: none;\n",
              "      fill: #1967D2;\n",
              "      height: 32px;\n",
              "      padding: 0 0 0 0;\n",
              "      width: 32px;\n",
              "    }\n",
              "\n",
              "    .colab-df-convert:hover {\n",
              "      background-color: #E2EBFA;\n",
              "      box-shadow: 0px 1px 2px rgba(60, 64, 67, 0.3), 0px 1px 3px 1px rgba(60, 64, 67, 0.15);\n",
              "      fill: #174EA6;\n",
              "    }\n",
              "\n",
              "    [theme=dark] .colab-df-convert {\n",
              "      background-color: #3B4455;\n",
              "      fill: #D2E3FC;\n",
              "    }\n",
              "\n",
              "    [theme=dark] .colab-df-convert:hover {\n",
              "      background-color: #434B5C;\n",
              "      box-shadow: 0px 1px 3px 1px rgba(0, 0, 0, 0.15);\n",
              "      filter: drop-shadow(0px 1px 2px rgba(0, 0, 0, 0.3));\n",
              "      fill: #FFFFFF;\n",
              "    }\n",
              "  </style>\n",
              "\n",
              "      <script>\n",
              "        const buttonEl =\n",
              "          document.querySelector('#df-4307428a-0006-41e7-a410-433890593774 button.colab-df-convert');\n",
              "        buttonEl.style.display =\n",
              "          google.colab.kernel.accessAllowed ? 'block' : 'none';\n",
              "\n",
              "        async function convertToInteractive(key) {\n",
              "          const element = document.querySelector('#df-4307428a-0006-41e7-a410-433890593774');\n",
              "          const dataTable =\n",
              "            await google.colab.kernel.invokeFunction('convertToInteractive',\n",
              "                                                     [key], {});\n",
              "          if (!dataTable) return;\n",
              "\n",
              "          const docLinkHtml = 'Like what you see? Visit the ' +\n",
              "            '<a target=\"_blank\" href=https://colab.research.google.com/notebooks/data_table.ipynb>data table notebook</a>'\n",
              "            + ' to learn more about interactive tables.';\n",
              "          element.innerHTML = '';\n",
              "          dataTable['output_type'] = 'display_data';\n",
              "          await google.colab.output.renderOutput(dataTable, element);\n",
              "          const docLink = document.createElement('div');\n",
              "          docLink.innerHTML = docLinkHtml;\n",
              "          element.appendChild(docLink);\n",
              "        }\n",
              "      </script>\n",
              "    </div>\n",
              "  </div>\n",
              "  "
            ]
          },
          "metadata": {},
          "execution_count": 101
        }
      ],
      "source": [
        "df"
      ]
    },
    {
      "cell_type": "code",
      "execution_count": 102,
      "metadata": {
        "id": "CpUDUGIXONTr"
      },
      "outputs": [],
      "source": [
        "# Define the three classes you want to use\n",
        "class_names = [\"No Finding\", \"Pleural Effusion\"]\n",
        "#class_names = [\"Lung Opacity\", \"Support Devices\"]\n",
        "\n",
        "# Filter the dataframe to only include samples from these classes\n",
        "df_filtered = df[df[class_names].notna().any(axis=1)][class_names + [\"Path\"]]\n",
        "\n",
        "# Shuffle the dataframe and reset the index\n",
        "df_filtered = df_filtered.sample(frac=1).reset_index(drop=True)"
      ]
    },
    {
      "cell_type": "code",
      "execution_count": 103,
      "metadata": {
        "colab": {
          "base_uri": "https://localhost:8080/",
          "height": 424
        },
        "id": "7inkm-5rHREG",
        "outputId": "cede8e09-6281-4dd2-875b-b49d65e064e9"
      },
      "outputs": [
        {
          "output_type": "execute_result",
          "data": {
            "text/plain": [
              "      No Finding  Pleural Effusion  \\\n",
              "0            1.0               NaN   \n",
              "1            NaN               1.0   \n",
              "2            NaN               1.0   \n",
              "3            NaN               0.0   \n",
              "4            NaN              -1.0   \n",
              "...          ...               ...   \n",
              "9897         NaN               1.0   \n",
              "9898         1.0               NaN   \n",
              "9899         NaN               0.0   \n",
              "9900         NaN              -1.0   \n",
              "9901         1.0               0.0   \n",
              "\n",
              "                                                   Path  \n",
              "0     CheXpert-v1.0-small/train/patient00466/study5/...  \n",
              "1     CheXpert-v1.0-small/train/patient02696/study11...  \n",
              "2     CheXpert-v1.0-small/train/patient03255/study1/...  \n",
              "3     CheXpert-v1.0-small/train/patient02166/study1/...  \n",
              "4     CheXpert-v1.0-small/train/patient03720/study2/...  \n",
              "...                                                 ...  \n",
              "9897  CheXpert-v1.0-small/train/patient03419/study9/...  \n",
              "9898  CheXpert-v1.0-small/train/patient02620/study2/...  \n",
              "9899  CheXpert-v1.0-small/train/patient02189/study4/...  \n",
              "9900  CheXpert-v1.0-small/train/patient02026/study1/...  \n",
              "9901  CheXpert-v1.0-small/train/patient00801/study1/...  \n",
              "\n",
              "[9902 rows x 3 columns]"
            ],
            "text/html": [
              "\n",
              "  <div id=\"df-9ba987f2-7c6e-4326-b470-7ee8e10b38f6\">\n",
              "    <div class=\"colab-df-container\">\n",
              "      <div>\n",
              "<style scoped>\n",
              "    .dataframe tbody tr th:only-of-type {\n",
              "        vertical-align: middle;\n",
              "    }\n",
              "\n",
              "    .dataframe tbody tr th {\n",
              "        vertical-align: top;\n",
              "    }\n",
              "\n",
              "    .dataframe thead th {\n",
              "        text-align: right;\n",
              "    }\n",
              "</style>\n",
              "<table border=\"1\" class=\"dataframe\">\n",
              "  <thead>\n",
              "    <tr style=\"text-align: right;\">\n",
              "      <th></th>\n",
              "      <th>No Finding</th>\n",
              "      <th>Pleural Effusion</th>\n",
              "      <th>Path</th>\n",
              "    </tr>\n",
              "  </thead>\n",
              "  <tbody>\n",
              "    <tr>\n",
              "      <th>0</th>\n",
              "      <td>1.0</td>\n",
              "      <td>NaN</td>\n",
              "      <td>CheXpert-v1.0-small/train/patient00466/study5/...</td>\n",
              "    </tr>\n",
              "    <tr>\n",
              "      <th>1</th>\n",
              "      <td>NaN</td>\n",
              "      <td>1.0</td>\n",
              "      <td>CheXpert-v1.0-small/train/patient02696/study11...</td>\n",
              "    </tr>\n",
              "    <tr>\n",
              "      <th>2</th>\n",
              "      <td>NaN</td>\n",
              "      <td>1.0</td>\n",
              "      <td>CheXpert-v1.0-small/train/patient03255/study1/...</td>\n",
              "    </tr>\n",
              "    <tr>\n",
              "      <th>3</th>\n",
              "      <td>NaN</td>\n",
              "      <td>0.0</td>\n",
              "      <td>CheXpert-v1.0-small/train/patient02166/study1/...</td>\n",
              "    </tr>\n",
              "    <tr>\n",
              "      <th>4</th>\n",
              "      <td>NaN</td>\n",
              "      <td>-1.0</td>\n",
              "      <td>CheXpert-v1.0-small/train/patient03720/study2/...</td>\n",
              "    </tr>\n",
              "    <tr>\n",
              "      <th>...</th>\n",
              "      <td>...</td>\n",
              "      <td>...</td>\n",
              "      <td>...</td>\n",
              "    </tr>\n",
              "    <tr>\n",
              "      <th>9897</th>\n",
              "      <td>NaN</td>\n",
              "      <td>1.0</td>\n",
              "      <td>CheXpert-v1.0-small/train/patient03419/study9/...</td>\n",
              "    </tr>\n",
              "    <tr>\n",
              "      <th>9898</th>\n",
              "      <td>1.0</td>\n",
              "      <td>NaN</td>\n",
              "      <td>CheXpert-v1.0-small/train/patient02620/study2/...</td>\n",
              "    </tr>\n",
              "    <tr>\n",
              "      <th>9899</th>\n",
              "      <td>NaN</td>\n",
              "      <td>0.0</td>\n",
              "      <td>CheXpert-v1.0-small/train/patient02189/study4/...</td>\n",
              "    </tr>\n",
              "    <tr>\n",
              "      <th>9900</th>\n",
              "      <td>NaN</td>\n",
              "      <td>-1.0</td>\n",
              "      <td>CheXpert-v1.0-small/train/patient02026/study1/...</td>\n",
              "    </tr>\n",
              "    <tr>\n",
              "      <th>9901</th>\n",
              "      <td>1.0</td>\n",
              "      <td>0.0</td>\n",
              "      <td>CheXpert-v1.0-small/train/patient00801/study1/...</td>\n",
              "    </tr>\n",
              "  </tbody>\n",
              "</table>\n",
              "<p>9902 rows × 3 columns</p>\n",
              "</div>\n",
              "      <button class=\"colab-df-convert\" onclick=\"convertToInteractive('df-9ba987f2-7c6e-4326-b470-7ee8e10b38f6')\"\n",
              "              title=\"Convert this dataframe to an interactive table.\"\n",
              "              style=\"display:none;\">\n",
              "        \n",
              "  <svg xmlns=\"http://www.w3.org/2000/svg\" height=\"24px\"viewBox=\"0 0 24 24\"\n",
              "       width=\"24px\">\n",
              "    <path d=\"M0 0h24v24H0V0z\" fill=\"none\"/>\n",
              "    <path d=\"M18.56 5.44l.94 2.06.94-2.06 2.06-.94-2.06-.94-.94-2.06-.94 2.06-2.06.94zm-11 1L8.5 8.5l.94-2.06 2.06-.94-2.06-.94L8.5 2.5l-.94 2.06-2.06.94zm10 10l.94 2.06.94-2.06 2.06-.94-2.06-.94-.94-2.06-.94 2.06-2.06.94z\"/><path d=\"M17.41 7.96l-1.37-1.37c-.4-.4-.92-.59-1.43-.59-.52 0-1.04.2-1.43.59L10.3 9.45l-7.72 7.72c-.78.78-.78 2.05 0 2.83L4 21.41c.39.39.9.59 1.41.59.51 0 1.02-.2 1.41-.59l7.78-7.78 2.81-2.81c.8-.78.8-2.07 0-2.86zM5.41 20L4 18.59l7.72-7.72 1.47 1.35L5.41 20z\"/>\n",
              "  </svg>\n",
              "      </button>\n",
              "      \n",
              "  <style>\n",
              "    .colab-df-container {\n",
              "      display:flex;\n",
              "      flex-wrap:wrap;\n",
              "      gap: 12px;\n",
              "    }\n",
              "\n",
              "    .colab-df-convert {\n",
              "      background-color: #E8F0FE;\n",
              "      border: none;\n",
              "      border-radius: 50%;\n",
              "      cursor: pointer;\n",
              "      display: none;\n",
              "      fill: #1967D2;\n",
              "      height: 32px;\n",
              "      padding: 0 0 0 0;\n",
              "      width: 32px;\n",
              "    }\n",
              "\n",
              "    .colab-df-convert:hover {\n",
              "      background-color: #E2EBFA;\n",
              "      box-shadow: 0px 1px 2px rgba(60, 64, 67, 0.3), 0px 1px 3px 1px rgba(60, 64, 67, 0.15);\n",
              "      fill: #174EA6;\n",
              "    }\n",
              "\n",
              "    [theme=dark] .colab-df-convert {\n",
              "      background-color: #3B4455;\n",
              "      fill: #D2E3FC;\n",
              "    }\n",
              "\n",
              "    [theme=dark] .colab-df-convert:hover {\n",
              "      background-color: #434B5C;\n",
              "      box-shadow: 0px 1px 3px 1px rgba(0, 0, 0, 0.15);\n",
              "      filter: drop-shadow(0px 1px 2px rgba(0, 0, 0, 0.3));\n",
              "      fill: #FFFFFF;\n",
              "    }\n",
              "  </style>\n",
              "\n",
              "      <script>\n",
              "        const buttonEl =\n",
              "          document.querySelector('#df-9ba987f2-7c6e-4326-b470-7ee8e10b38f6 button.colab-df-convert');\n",
              "        buttonEl.style.display =\n",
              "          google.colab.kernel.accessAllowed ? 'block' : 'none';\n",
              "\n",
              "        async function convertToInteractive(key) {\n",
              "          const element = document.querySelector('#df-9ba987f2-7c6e-4326-b470-7ee8e10b38f6');\n",
              "          const dataTable =\n",
              "            await google.colab.kernel.invokeFunction('convertToInteractive',\n",
              "                                                     [key], {});\n",
              "          if (!dataTable) return;\n",
              "\n",
              "          const docLinkHtml = 'Like what you see? Visit the ' +\n",
              "            '<a target=\"_blank\" href=https://colab.research.google.com/notebooks/data_table.ipynb>data table notebook</a>'\n",
              "            + ' to learn more about interactive tables.';\n",
              "          element.innerHTML = '';\n",
              "          dataTable['output_type'] = 'display_data';\n",
              "          await google.colab.output.renderOutput(dataTable, element);\n",
              "          const docLink = document.createElement('div');\n",
              "          docLink.innerHTML = docLinkHtml;\n",
              "          element.appendChild(docLink);\n",
              "        }\n",
              "      </script>\n",
              "    </div>\n",
              "  </div>\n",
              "  "
            ]
          },
          "metadata": {},
          "execution_count": 103
        }
      ],
      "source": [
        "df_filtered"
      ]
    },
    {
      "cell_type": "code",
      "execution_count": 104,
      "metadata": {
        "id": "E43Yof-FHYNr"
      },
      "outputs": [],
      "source": [
        "labels = df.iloc[:, 5:].values\n",
        "\n",
        "labels_dataset = list(df.columns[5:])\n",
        "labels_dataset\n",
        "\n",
        "for i in class_names:\n",
        "  df_filtered[i] = df_filtered[i].apply(lambda x : 1 if x == 1 else 0)"
      ]
    },
    {
      "cell_type": "code",
      "execution_count": 105,
      "metadata": {
        "colab": {
          "base_uri": "https://localhost:8080/",
          "height": 424
        },
        "id": "FWEeo3P2HZOn",
        "outputId": "8051e934-e30d-4fde-de34-1098b019f919"
      },
      "outputs": [
        {
          "output_type": "execute_result",
          "data": {
            "text/plain": [
              "      No Finding  Pleural Effusion  \\\n",
              "0              1                 0   \n",
              "1              0                 1   \n",
              "2              0                 1   \n",
              "3              0                 0   \n",
              "4              0                 0   \n",
              "...          ...               ...   \n",
              "9897           0                 1   \n",
              "9898           1                 0   \n",
              "9899           0                 0   \n",
              "9900           0                 0   \n",
              "9901           1                 0   \n",
              "\n",
              "                                                   Path  \n",
              "0     CheXpert-v1.0-small/train/patient00466/study5/...  \n",
              "1     CheXpert-v1.0-small/train/patient02696/study11...  \n",
              "2     CheXpert-v1.0-small/train/patient03255/study1/...  \n",
              "3     CheXpert-v1.0-small/train/patient02166/study1/...  \n",
              "4     CheXpert-v1.0-small/train/patient03720/study2/...  \n",
              "...                                                 ...  \n",
              "9897  CheXpert-v1.0-small/train/patient03419/study9/...  \n",
              "9898  CheXpert-v1.0-small/train/patient02620/study2/...  \n",
              "9899  CheXpert-v1.0-small/train/patient02189/study4/...  \n",
              "9900  CheXpert-v1.0-small/train/patient02026/study1/...  \n",
              "9901  CheXpert-v1.0-small/train/patient00801/study1/...  \n",
              "\n",
              "[9902 rows x 3 columns]"
            ],
            "text/html": [
              "\n",
              "  <div id=\"df-52aae3e9-7e90-4d87-b34e-0036b668a4c4\">\n",
              "    <div class=\"colab-df-container\">\n",
              "      <div>\n",
              "<style scoped>\n",
              "    .dataframe tbody tr th:only-of-type {\n",
              "        vertical-align: middle;\n",
              "    }\n",
              "\n",
              "    .dataframe tbody tr th {\n",
              "        vertical-align: top;\n",
              "    }\n",
              "\n",
              "    .dataframe thead th {\n",
              "        text-align: right;\n",
              "    }\n",
              "</style>\n",
              "<table border=\"1\" class=\"dataframe\">\n",
              "  <thead>\n",
              "    <tr style=\"text-align: right;\">\n",
              "      <th></th>\n",
              "      <th>No Finding</th>\n",
              "      <th>Pleural Effusion</th>\n",
              "      <th>Path</th>\n",
              "    </tr>\n",
              "  </thead>\n",
              "  <tbody>\n",
              "    <tr>\n",
              "      <th>0</th>\n",
              "      <td>1</td>\n",
              "      <td>0</td>\n",
              "      <td>CheXpert-v1.0-small/train/patient00466/study5/...</td>\n",
              "    </tr>\n",
              "    <tr>\n",
              "      <th>1</th>\n",
              "      <td>0</td>\n",
              "      <td>1</td>\n",
              "      <td>CheXpert-v1.0-small/train/patient02696/study11...</td>\n",
              "    </tr>\n",
              "    <tr>\n",
              "      <th>2</th>\n",
              "      <td>0</td>\n",
              "      <td>1</td>\n",
              "      <td>CheXpert-v1.0-small/train/patient03255/study1/...</td>\n",
              "    </tr>\n",
              "    <tr>\n",
              "      <th>3</th>\n",
              "      <td>0</td>\n",
              "      <td>0</td>\n",
              "      <td>CheXpert-v1.0-small/train/patient02166/study1/...</td>\n",
              "    </tr>\n",
              "    <tr>\n",
              "      <th>4</th>\n",
              "      <td>0</td>\n",
              "      <td>0</td>\n",
              "      <td>CheXpert-v1.0-small/train/patient03720/study2/...</td>\n",
              "    </tr>\n",
              "    <tr>\n",
              "      <th>...</th>\n",
              "      <td>...</td>\n",
              "      <td>...</td>\n",
              "      <td>...</td>\n",
              "    </tr>\n",
              "    <tr>\n",
              "      <th>9897</th>\n",
              "      <td>0</td>\n",
              "      <td>1</td>\n",
              "      <td>CheXpert-v1.0-small/train/patient03419/study9/...</td>\n",
              "    </tr>\n",
              "    <tr>\n",
              "      <th>9898</th>\n",
              "      <td>1</td>\n",
              "      <td>0</td>\n",
              "      <td>CheXpert-v1.0-small/train/patient02620/study2/...</td>\n",
              "    </tr>\n",
              "    <tr>\n",
              "      <th>9899</th>\n",
              "      <td>0</td>\n",
              "      <td>0</td>\n",
              "      <td>CheXpert-v1.0-small/train/patient02189/study4/...</td>\n",
              "    </tr>\n",
              "    <tr>\n",
              "      <th>9900</th>\n",
              "      <td>0</td>\n",
              "      <td>0</td>\n",
              "      <td>CheXpert-v1.0-small/train/patient02026/study1/...</td>\n",
              "    </tr>\n",
              "    <tr>\n",
              "      <th>9901</th>\n",
              "      <td>1</td>\n",
              "      <td>0</td>\n",
              "      <td>CheXpert-v1.0-small/train/patient00801/study1/...</td>\n",
              "    </tr>\n",
              "  </tbody>\n",
              "</table>\n",
              "<p>9902 rows × 3 columns</p>\n",
              "</div>\n",
              "      <button class=\"colab-df-convert\" onclick=\"convertToInteractive('df-52aae3e9-7e90-4d87-b34e-0036b668a4c4')\"\n",
              "              title=\"Convert this dataframe to an interactive table.\"\n",
              "              style=\"display:none;\">\n",
              "        \n",
              "  <svg xmlns=\"http://www.w3.org/2000/svg\" height=\"24px\"viewBox=\"0 0 24 24\"\n",
              "       width=\"24px\">\n",
              "    <path d=\"M0 0h24v24H0V0z\" fill=\"none\"/>\n",
              "    <path d=\"M18.56 5.44l.94 2.06.94-2.06 2.06-.94-2.06-.94-.94-2.06-.94 2.06-2.06.94zm-11 1L8.5 8.5l.94-2.06 2.06-.94-2.06-.94L8.5 2.5l-.94 2.06-2.06.94zm10 10l.94 2.06.94-2.06 2.06-.94-2.06-.94-.94-2.06-.94 2.06-2.06.94z\"/><path d=\"M17.41 7.96l-1.37-1.37c-.4-.4-.92-.59-1.43-.59-.52 0-1.04.2-1.43.59L10.3 9.45l-7.72 7.72c-.78.78-.78 2.05 0 2.83L4 21.41c.39.39.9.59 1.41.59.51 0 1.02-.2 1.41-.59l7.78-7.78 2.81-2.81c.8-.78.8-2.07 0-2.86zM5.41 20L4 18.59l7.72-7.72 1.47 1.35L5.41 20z\"/>\n",
              "  </svg>\n",
              "      </button>\n",
              "      \n",
              "  <style>\n",
              "    .colab-df-container {\n",
              "      display:flex;\n",
              "      flex-wrap:wrap;\n",
              "      gap: 12px;\n",
              "    }\n",
              "\n",
              "    .colab-df-convert {\n",
              "      background-color: #E8F0FE;\n",
              "      border: none;\n",
              "      border-radius: 50%;\n",
              "      cursor: pointer;\n",
              "      display: none;\n",
              "      fill: #1967D2;\n",
              "      height: 32px;\n",
              "      padding: 0 0 0 0;\n",
              "      width: 32px;\n",
              "    }\n",
              "\n",
              "    .colab-df-convert:hover {\n",
              "      background-color: #E2EBFA;\n",
              "      box-shadow: 0px 1px 2px rgba(60, 64, 67, 0.3), 0px 1px 3px 1px rgba(60, 64, 67, 0.15);\n",
              "      fill: #174EA6;\n",
              "    }\n",
              "\n",
              "    [theme=dark] .colab-df-convert {\n",
              "      background-color: #3B4455;\n",
              "      fill: #D2E3FC;\n",
              "    }\n",
              "\n",
              "    [theme=dark] .colab-df-convert:hover {\n",
              "      background-color: #434B5C;\n",
              "      box-shadow: 0px 1px 3px 1px rgba(0, 0, 0, 0.15);\n",
              "      filter: drop-shadow(0px 1px 2px rgba(0, 0, 0, 0.3));\n",
              "      fill: #FFFFFF;\n",
              "    }\n",
              "  </style>\n",
              "\n",
              "      <script>\n",
              "        const buttonEl =\n",
              "          document.querySelector('#df-52aae3e9-7e90-4d87-b34e-0036b668a4c4 button.colab-df-convert');\n",
              "        buttonEl.style.display =\n",
              "          google.colab.kernel.accessAllowed ? 'block' : 'none';\n",
              "\n",
              "        async function convertToInteractive(key) {\n",
              "          const element = document.querySelector('#df-52aae3e9-7e90-4d87-b34e-0036b668a4c4');\n",
              "          const dataTable =\n",
              "            await google.colab.kernel.invokeFunction('convertToInteractive',\n",
              "                                                     [key], {});\n",
              "          if (!dataTable) return;\n",
              "\n",
              "          const docLinkHtml = 'Like what you see? Visit the ' +\n",
              "            '<a target=\"_blank\" href=https://colab.research.google.com/notebooks/data_table.ipynb>data table notebook</a>'\n",
              "            + ' to learn more about interactive tables.';\n",
              "          element.innerHTML = '';\n",
              "          dataTable['output_type'] = 'display_data';\n",
              "          await google.colab.output.renderOutput(dataTable, element);\n",
              "          const docLink = document.createElement('div');\n",
              "          docLink.innerHTML = docLinkHtml;\n",
              "          element.appendChild(docLink);\n",
              "        }\n",
              "      </script>\n",
              "    </div>\n",
              "  </div>\n",
              "  "
            ]
          },
          "metadata": {},
          "execution_count": 105
        }
      ],
      "source": [
        "df_filtered"
      ]
    },
    {
      "cell_type": "code",
      "execution_count": 106,
      "metadata": {
        "id": "-Wb75s71HLeA"
      },
      "outputs": [],
      "source": [
        "# Create a new column called \"class\" that contains the name of the class for each row\n",
        "#df_filtered['class'] = ''\n",
        "#df_filtered.loc[df_filtered['No Finding'] == 1, 'class'] = 'No Finding'\n",
        "#df_filtered.loc[df_filtered['Pleural Effusion'] == 1, 'class'] = 'Pleural Effusion'\n",
        "\n",
        "# Filter out the rows that have a 1 in both \"No Finding\" and \"Pleural Effusion\"\n",
        "df_filtered = df_filtered.loc[(df_filtered['No Finding'] == 1) | (df_filtered['Pleural Effusion'] == 1)]\n",
        "df_filtered = df_filtered.sample(frac=1).reset_index(drop=True)\n"
      ]
    },
    {
      "cell_type": "code",
      "execution_count": 107,
      "metadata": {
        "colab": {
          "base_uri": "https://localhost:8080/",
          "height": 424
        },
        "id": "gqpGQ33lHOEW",
        "outputId": "0be425b3-22fa-46aa-c706-ba3ff43a2177"
      },
      "outputs": [
        {
          "output_type": "execute_result",
          "data": {
            "text/plain": [
              "      No Finding  Pleural Effusion  \\\n",
              "0              0                 1   \n",
              "1              0                 1   \n",
              "2              0                 1   \n",
              "3              1                 0   \n",
              "4              1                 0   \n",
              "...          ...               ...   \n",
              "7149           0                 1   \n",
              "7150           0                 1   \n",
              "7151           0                 1   \n",
              "7152           0                 1   \n",
              "7153           0                 1   \n",
              "\n",
              "                                                   Path  \n",
              "0     CheXpert-v1.0-small/train/patient01403/study2/...  \n",
              "1     CheXpert-v1.0-small/train/patient00826/study2/...  \n",
              "2     CheXpert-v1.0-small/train/patient03225/study2/...  \n",
              "3     CheXpert-v1.0-small/train/patient01360/study1/...  \n",
              "4     CheXpert-v1.0-small/train/patient01086/study2/...  \n",
              "...                                                 ...  \n",
              "7149  CheXpert-v1.0-small/train/patient00868/study2/...  \n",
              "7150  CheXpert-v1.0-small/train/patient01485/study3/...  \n",
              "7151  CheXpert-v1.0-small/train/patient02298/study2/...  \n",
              "7152  CheXpert-v1.0-small/train/patient03067/study2/...  \n",
              "7153  CheXpert-v1.0-small/train/patient03122/study47...  \n",
              "\n",
              "[7154 rows x 3 columns]"
            ],
            "text/html": [
              "\n",
              "  <div id=\"df-85fded91-845f-4c13-97a2-295f197ea1ae\">\n",
              "    <div class=\"colab-df-container\">\n",
              "      <div>\n",
              "<style scoped>\n",
              "    .dataframe tbody tr th:only-of-type {\n",
              "        vertical-align: middle;\n",
              "    }\n",
              "\n",
              "    .dataframe tbody tr th {\n",
              "        vertical-align: top;\n",
              "    }\n",
              "\n",
              "    .dataframe thead th {\n",
              "        text-align: right;\n",
              "    }\n",
              "</style>\n",
              "<table border=\"1\" class=\"dataframe\">\n",
              "  <thead>\n",
              "    <tr style=\"text-align: right;\">\n",
              "      <th></th>\n",
              "      <th>No Finding</th>\n",
              "      <th>Pleural Effusion</th>\n",
              "      <th>Path</th>\n",
              "    </tr>\n",
              "  </thead>\n",
              "  <tbody>\n",
              "    <tr>\n",
              "      <th>0</th>\n",
              "      <td>0</td>\n",
              "      <td>1</td>\n",
              "      <td>CheXpert-v1.0-small/train/patient01403/study2/...</td>\n",
              "    </tr>\n",
              "    <tr>\n",
              "      <th>1</th>\n",
              "      <td>0</td>\n",
              "      <td>1</td>\n",
              "      <td>CheXpert-v1.0-small/train/patient00826/study2/...</td>\n",
              "    </tr>\n",
              "    <tr>\n",
              "      <th>2</th>\n",
              "      <td>0</td>\n",
              "      <td>1</td>\n",
              "      <td>CheXpert-v1.0-small/train/patient03225/study2/...</td>\n",
              "    </tr>\n",
              "    <tr>\n",
              "      <th>3</th>\n",
              "      <td>1</td>\n",
              "      <td>0</td>\n",
              "      <td>CheXpert-v1.0-small/train/patient01360/study1/...</td>\n",
              "    </tr>\n",
              "    <tr>\n",
              "      <th>4</th>\n",
              "      <td>1</td>\n",
              "      <td>0</td>\n",
              "      <td>CheXpert-v1.0-small/train/patient01086/study2/...</td>\n",
              "    </tr>\n",
              "    <tr>\n",
              "      <th>...</th>\n",
              "      <td>...</td>\n",
              "      <td>...</td>\n",
              "      <td>...</td>\n",
              "    </tr>\n",
              "    <tr>\n",
              "      <th>7149</th>\n",
              "      <td>0</td>\n",
              "      <td>1</td>\n",
              "      <td>CheXpert-v1.0-small/train/patient00868/study2/...</td>\n",
              "    </tr>\n",
              "    <tr>\n",
              "      <th>7150</th>\n",
              "      <td>0</td>\n",
              "      <td>1</td>\n",
              "      <td>CheXpert-v1.0-small/train/patient01485/study3/...</td>\n",
              "    </tr>\n",
              "    <tr>\n",
              "      <th>7151</th>\n",
              "      <td>0</td>\n",
              "      <td>1</td>\n",
              "      <td>CheXpert-v1.0-small/train/patient02298/study2/...</td>\n",
              "    </tr>\n",
              "    <tr>\n",
              "      <th>7152</th>\n",
              "      <td>0</td>\n",
              "      <td>1</td>\n",
              "      <td>CheXpert-v1.0-small/train/patient03067/study2/...</td>\n",
              "    </tr>\n",
              "    <tr>\n",
              "      <th>7153</th>\n",
              "      <td>0</td>\n",
              "      <td>1</td>\n",
              "      <td>CheXpert-v1.0-small/train/patient03122/study47...</td>\n",
              "    </tr>\n",
              "  </tbody>\n",
              "</table>\n",
              "<p>7154 rows × 3 columns</p>\n",
              "</div>\n",
              "      <button class=\"colab-df-convert\" onclick=\"convertToInteractive('df-85fded91-845f-4c13-97a2-295f197ea1ae')\"\n",
              "              title=\"Convert this dataframe to an interactive table.\"\n",
              "              style=\"display:none;\">\n",
              "        \n",
              "  <svg xmlns=\"http://www.w3.org/2000/svg\" height=\"24px\"viewBox=\"0 0 24 24\"\n",
              "       width=\"24px\">\n",
              "    <path d=\"M0 0h24v24H0V0z\" fill=\"none\"/>\n",
              "    <path d=\"M18.56 5.44l.94 2.06.94-2.06 2.06-.94-2.06-.94-.94-2.06-.94 2.06-2.06.94zm-11 1L8.5 8.5l.94-2.06 2.06-.94-2.06-.94L8.5 2.5l-.94 2.06-2.06.94zm10 10l.94 2.06.94-2.06 2.06-.94-2.06-.94-.94-2.06-.94 2.06-2.06.94z\"/><path d=\"M17.41 7.96l-1.37-1.37c-.4-.4-.92-.59-1.43-.59-.52 0-1.04.2-1.43.59L10.3 9.45l-7.72 7.72c-.78.78-.78 2.05 0 2.83L4 21.41c.39.39.9.59 1.41.59.51 0 1.02-.2 1.41-.59l7.78-7.78 2.81-2.81c.8-.78.8-2.07 0-2.86zM5.41 20L4 18.59l7.72-7.72 1.47 1.35L5.41 20z\"/>\n",
              "  </svg>\n",
              "      </button>\n",
              "      \n",
              "  <style>\n",
              "    .colab-df-container {\n",
              "      display:flex;\n",
              "      flex-wrap:wrap;\n",
              "      gap: 12px;\n",
              "    }\n",
              "\n",
              "    .colab-df-convert {\n",
              "      background-color: #E8F0FE;\n",
              "      border: none;\n",
              "      border-radius: 50%;\n",
              "      cursor: pointer;\n",
              "      display: none;\n",
              "      fill: #1967D2;\n",
              "      height: 32px;\n",
              "      padding: 0 0 0 0;\n",
              "      width: 32px;\n",
              "    }\n",
              "\n",
              "    .colab-df-convert:hover {\n",
              "      background-color: #E2EBFA;\n",
              "      box-shadow: 0px 1px 2px rgba(60, 64, 67, 0.3), 0px 1px 3px 1px rgba(60, 64, 67, 0.15);\n",
              "      fill: #174EA6;\n",
              "    }\n",
              "\n",
              "    [theme=dark] .colab-df-convert {\n",
              "      background-color: #3B4455;\n",
              "      fill: #D2E3FC;\n",
              "    }\n",
              "\n",
              "    [theme=dark] .colab-df-convert:hover {\n",
              "      background-color: #434B5C;\n",
              "      box-shadow: 0px 1px 3px 1px rgba(0, 0, 0, 0.15);\n",
              "      filter: drop-shadow(0px 1px 2px rgba(0, 0, 0, 0.3));\n",
              "      fill: #FFFFFF;\n",
              "    }\n",
              "  </style>\n",
              "\n",
              "      <script>\n",
              "        const buttonEl =\n",
              "          document.querySelector('#df-85fded91-845f-4c13-97a2-295f197ea1ae button.colab-df-convert');\n",
              "        buttonEl.style.display =\n",
              "          google.colab.kernel.accessAllowed ? 'block' : 'none';\n",
              "\n",
              "        async function convertToInteractive(key) {\n",
              "          const element = document.querySelector('#df-85fded91-845f-4c13-97a2-295f197ea1ae');\n",
              "          const dataTable =\n",
              "            await google.colab.kernel.invokeFunction('convertToInteractive',\n",
              "                                                     [key], {});\n",
              "          if (!dataTable) return;\n",
              "\n",
              "          const docLinkHtml = 'Like what you see? Visit the ' +\n",
              "            '<a target=\"_blank\" href=https://colab.research.google.com/notebooks/data_table.ipynb>data table notebook</a>'\n",
              "            + ' to learn more about interactive tables.';\n",
              "          element.innerHTML = '';\n",
              "          dataTable['output_type'] = 'display_data';\n",
              "          await google.colab.output.renderOutput(dataTable, element);\n",
              "          const docLink = document.createElement('div');\n",
              "          docLink.innerHTML = docLinkHtml;\n",
              "          element.appendChild(docLink);\n",
              "        }\n",
              "      </script>\n",
              "    </div>\n",
              "  </div>\n",
              "  "
            ]
          },
          "metadata": {},
          "execution_count": 107
        }
      ],
      "source": [
        "df_filtered"
      ]
    },
    {
      "cell_type": "code",
      "execution_count": 108,
      "metadata": {
        "colab": {
          "base_uri": "https://localhost:8080/"
        },
        "id": "GB-wS2uSOPT0",
        "outputId": "4dff3341-8958-41ec-c001-5521b922242c"
      },
      "outputs": [
        {
          "output_type": "execute_result",
          "data": {
            "text/plain": [
              "0       0\n",
              "1       0\n",
              "2       0\n",
              "3       1\n",
              "4       1\n",
              "       ..\n",
              "7149    0\n",
              "7150    0\n",
              "7151    0\n",
              "7152    0\n",
              "7153    0\n",
              "Name: No Finding, Length: 7154, dtype: int64"
            ]
          },
          "metadata": {},
          "execution_count": 108
        }
      ],
      "source": [
        "#df_filtered, len(df_filtered)\n",
        "df_filtered['No Finding']"
      ]
    },
    {
      "cell_type": "code",
      "execution_count": 109,
      "metadata": {
        "colab": {
          "base_uri": "https://localhost:8080/"
        },
        "id": "JJELGhQcBke2",
        "outputId": "f5b280a9-8b98-4dee-f0a5-f4087a77f789"
      },
      "outputs": [
        {
          "output_type": "execute_result",
          "data": {
            "text/plain": [
              "1    5378\n",
              "0    1776\n",
              "Name: Pleural Effusion, dtype: int64"
            ]
          },
          "metadata": {},
          "execution_count": 109
        }
      ],
      "source": [
        "no_finding_counts = df_filtered['Pleural Effusion'].value_counts()\n",
        "no_finding_counts"
      ]
    },
    {
      "cell_type": "code",
      "execution_count": 110,
      "metadata": {
        "colab": {
          "base_uri": "https://localhost:8080/"
        },
        "id": "cF5pUyBRBmcJ",
        "outputId": "636e09a4-eab3-4912-a6e2-491f5912f94a"
      },
      "outputs": [
        {
          "output_type": "execute_result",
          "data": {
            "text/plain": [
              "0    5378\n",
              "1    1776\n",
              "Name: No Finding, dtype: int64"
            ]
          },
          "metadata": {},
          "execution_count": 110
        }
      ],
      "source": [
        "pleural_effusion_counts = df_filtered['No Finding'].value_counts()\n",
        "pleural_effusion_counts"
      ]
    },
    {
      "cell_type": "code",
      "source": [
        "df_sampled = df_filtered.groupby(['No Finding', 'Pleural Effusion']).apply(lambda x: x.sample(n=1000, random_state=42)).reset_index(drop=True)"
      ],
      "metadata": {
        "id": "2gSYHhHlF6Zd"
      },
      "execution_count": 111,
      "outputs": []
    },
    {
      "cell_type": "code",
      "source": [
        "df_sampled"
      ],
      "metadata": {
        "colab": {
          "base_uri": "https://localhost:8080/",
          "height": 424
        },
        "id": "jpZG0olYIoRl",
        "outputId": "f03ad64c-a1d8-4167-8d2d-e585298d97ec"
      },
      "execution_count": 112,
      "outputs": [
        {
          "output_type": "execute_result",
          "data": {
            "text/plain": [
              "      No Finding  Pleural Effusion  \\\n",
              "0              0                 1   \n",
              "1              0                 1   \n",
              "2              0                 1   \n",
              "3              0                 1   \n",
              "4              0                 1   \n",
              "...          ...               ...   \n",
              "1995           1                 0   \n",
              "1996           1                 0   \n",
              "1997           1                 0   \n",
              "1998           1                 0   \n",
              "1999           1                 0   \n",
              "\n",
              "                                                   Path  \n",
              "0     CheXpert-v1.0-small/train/patient00317/study2/...  \n",
              "1     CheXpert-v1.0-small/train/patient00142/study3/...  \n",
              "2     CheXpert-v1.0-small/train/patient01215/study4/...  \n",
              "3     CheXpert-v1.0-small/train/patient02778/study4/...  \n",
              "4     CheXpert-v1.0-small/train/patient02382/study10...  \n",
              "...                                                 ...  \n",
              "1995  CheXpert-v1.0-small/train/patient01382/study1/...  \n",
              "1996  CheXpert-v1.0-small/train/patient00183/study1/...  \n",
              "1997  CheXpert-v1.0-small/train/patient02333/study3/...  \n",
              "1998  CheXpert-v1.0-small/train/patient00656/study1/...  \n",
              "1999  CheXpert-v1.0-small/train/patient03653/study1/...  \n",
              "\n",
              "[2000 rows x 3 columns]"
            ],
            "text/html": [
              "\n",
              "  <div id=\"df-5021e824-8e94-4c09-9ab1-e0e9890b2dca\">\n",
              "    <div class=\"colab-df-container\">\n",
              "      <div>\n",
              "<style scoped>\n",
              "    .dataframe tbody tr th:only-of-type {\n",
              "        vertical-align: middle;\n",
              "    }\n",
              "\n",
              "    .dataframe tbody tr th {\n",
              "        vertical-align: top;\n",
              "    }\n",
              "\n",
              "    .dataframe thead th {\n",
              "        text-align: right;\n",
              "    }\n",
              "</style>\n",
              "<table border=\"1\" class=\"dataframe\">\n",
              "  <thead>\n",
              "    <tr style=\"text-align: right;\">\n",
              "      <th></th>\n",
              "      <th>No Finding</th>\n",
              "      <th>Pleural Effusion</th>\n",
              "      <th>Path</th>\n",
              "    </tr>\n",
              "  </thead>\n",
              "  <tbody>\n",
              "    <tr>\n",
              "      <th>0</th>\n",
              "      <td>0</td>\n",
              "      <td>1</td>\n",
              "      <td>CheXpert-v1.0-small/train/patient00317/study2/...</td>\n",
              "    </tr>\n",
              "    <tr>\n",
              "      <th>1</th>\n",
              "      <td>0</td>\n",
              "      <td>1</td>\n",
              "      <td>CheXpert-v1.0-small/train/patient00142/study3/...</td>\n",
              "    </tr>\n",
              "    <tr>\n",
              "      <th>2</th>\n",
              "      <td>0</td>\n",
              "      <td>1</td>\n",
              "      <td>CheXpert-v1.0-small/train/patient01215/study4/...</td>\n",
              "    </tr>\n",
              "    <tr>\n",
              "      <th>3</th>\n",
              "      <td>0</td>\n",
              "      <td>1</td>\n",
              "      <td>CheXpert-v1.0-small/train/patient02778/study4/...</td>\n",
              "    </tr>\n",
              "    <tr>\n",
              "      <th>4</th>\n",
              "      <td>0</td>\n",
              "      <td>1</td>\n",
              "      <td>CheXpert-v1.0-small/train/patient02382/study10...</td>\n",
              "    </tr>\n",
              "    <tr>\n",
              "      <th>...</th>\n",
              "      <td>...</td>\n",
              "      <td>...</td>\n",
              "      <td>...</td>\n",
              "    </tr>\n",
              "    <tr>\n",
              "      <th>1995</th>\n",
              "      <td>1</td>\n",
              "      <td>0</td>\n",
              "      <td>CheXpert-v1.0-small/train/patient01382/study1/...</td>\n",
              "    </tr>\n",
              "    <tr>\n",
              "      <th>1996</th>\n",
              "      <td>1</td>\n",
              "      <td>0</td>\n",
              "      <td>CheXpert-v1.0-small/train/patient00183/study1/...</td>\n",
              "    </tr>\n",
              "    <tr>\n",
              "      <th>1997</th>\n",
              "      <td>1</td>\n",
              "      <td>0</td>\n",
              "      <td>CheXpert-v1.0-small/train/patient02333/study3/...</td>\n",
              "    </tr>\n",
              "    <tr>\n",
              "      <th>1998</th>\n",
              "      <td>1</td>\n",
              "      <td>0</td>\n",
              "      <td>CheXpert-v1.0-small/train/patient00656/study1/...</td>\n",
              "    </tr>\n",
              "    <tr>\n",
              "      <th>1999</th>\n",
              "      <td>1</td>\n",
              "      <td>0</td>\n",
              "      <td>CheXpert-v1.0-small/train/patient03653/study1/...</td>\n",
              "    </tr>\n",
              "  </tbody>\n",
              "</table>\n",
              "<p>2000 rows × 3 columns</p>\n",
              "</div>\n",
              "      <button class=\"colab-df-convert\" onclick=\"convertToInteractive('df-5021e824-8e94-4c09-9ab1-e0e9890b2dca')\"\n",
              "              title=\"Convert this dataframe to an interactive table.\"\n",
              "              style=\"display:none;\">\n",
              "        \n",
              "  <svg xmlns=\"http://www.w3.org/2000/svg\" height=\"24px\"viewBox=\"0 0 24 24\"\n",
              "       width=\"24px\">\n",
              "    <path d=\"M0 0h24v24H0V0z\" fill=\"none\"/>\n",
              "    <path d=\"M18.56 5.44l.94 2.06.94-2.06 2.06-.94-2.06-.94-.94-2.06-.94 2.06-2.06.94zm-11 1L8.5 8.5l.94-2.06 2.06-.94-2.06-.94L8.5 2.5l-.94 2.06-2.06.94zm10 10l.94 2.06.94-2.06 2.06-.94-2.06-.94-.94-2.06-.94 2.06-2.06.94z\"/><path d=\"M17.41 7.96l-1.37-1.37c-.4-.4-.92-.59-1.43-.59-.52 0-1.04.2-1.43.59L10.3 9.45l-7.72 7.72c-.78.78-.78 2.05 0 2.83L4 21.41c.39.39.9.59 1.41.59.51 0 1.02-.2 1.41-.59l7.78-7.78 2.81-2.81c.8-.78.8-2.07 0-2.86zM5.41 20L4 18.59l7.72-7.72 1.47 1.35L5.41 20z\"/>\n",
              "  </svg>\n",
              "      </button>\n",
              "      \n",
              "  <style>\n",
              "    .colab-df-container {\n",
              "      display:flex;\n",
              "      flex-wrap:wrap;\n",
              "      gap: 12px;\n",
              "    }\n",
              "\n",
              "    .colab-df-convert {\n",
              "      background-color: #E8F0FE;\n",
              "      border: none;\n",
              "      border-radius: 50%;\n",
              "      cursor: pointer;\n",
              "      display: none;\n",
              "      fill: #1967D2;\n",
              "      height: 32px;\n",
              "      padding: 0 0 0 0;\n",
              "      width: 32px;\n",
              "    }\n",
              "\n",
              "    .colab-df-convert:hover {\n",
              "      background-color: #E2EBFA;\n",
              "      box-shadow: 0px 1px 2px rgba(60, 64, 67, 0.3), 0px 1px 3px 1px rgba(60, 64, 67, 0.15);\n",
              "      fill: #174EA6;\n",
              "    }\n",
              "\n",
              "    [theme=dark] .colab-df-convert {\n",
              "      background-color: #3B4455;\n",
              "      fill: #D2E3FC;\n",
              "    }\n",
              "\n",
              "    [theme=dark] .colab-df-convert:hover {\n",
              "      background-color: #434B5C;\n",
              "      box-shadow: 0px 1px 3px 1px rgba(0, 0, 0, 0.15);\n",
              "      filter: drop-shadow(0px 1px 2px rgba(0, 0, 0, 0.3));\n",
              "      fill: #FFFFFF;\n",
              "    }\n",
              "  </style>\n",
              "\n",
              "      <script>\n",
              "        const buttonEl =\n",
              "          document.querySelector('#df-5021e824-8e94-4c09-9ab1-e0e9890b2dca button.colab-df-convert');\n",
              "        buttonEl.style.display =\n",
              "          google.colab.kernel.accessAllowed ? 'block' : 'none';\n",
              "\n",
              "        async function convertToInteractive(key) {\n",
              "          const element = document.querySelector('#df-5021e824-8e94-4c09-9ab1-e0e9890b2dca');\n",
              "          const dataTable =\n",
              "            await google.colab.kernel.invokeFunction('convertToInteractive',\n",
              "                                                     [key], {});\n",
              "          if (!dataTable) return;\n",
              "\n",
              "          const docLinkHtml = 'Like what you see? Visit the ' +\n",
              "            '<a target=\"_blank\" href=https://colab.research.google.com/notebooks/data_table.ipynb>data table notebook</a>'\n",
              "            + ' to learn more about interactive tables.';\n",
              "          element.innerHTML = '';\n",
              "          dataTable['output_type'] = 'display_data';\n",
              "          await google.colab.output.renderOutput(dataTable, element);\n",
              "          const docLink = document.createElement('div');\n",
              "          docLink.innerHTML = docLinkHtml;\n",
              "          element.appendChild(docLink);\n",
              "        }\n",
              "      </script>\n",
              "    </div>\n",
              "  </div>\n",
              "  "
            ]
          },
          "metadata": {},
          "execution_count": 112
        }
      ]
    },
    {
      "cell_type": "code",
      "source": [
        "no_finding_counts = df_sampled['No Finding'].value_counts()\n",
        "no_finding_counts"
      ],
      "metadata": {
        "colab": {
          "base_uri": "https://localhost:8080/"
        },
        "id": "tx4ccQAiItXQ",
        "outputId": "046cfcab-7620-450f-84c5-a3a8e6021f90"
      },
      "execution_count": 113,
      "outputs": [
        {
          "output_type": "execute_result",
          "data": {
            "text/plain": [
              "0    1000\n",
              "1    1000\n",
              "Name: No Finding, dtype: int64"
            ]
          },
          "metadata": {},
          "execution_count": 113
        }
      ]
    },
    {
      "cell_type": "code",
      "source": [
        "pleural_effusion_counts = df_sampled['Pleural Effusion'].value_counts()\n",
        "pleural_effusion_counts"
      ],
      "metadata": {
        "colab": {
          "base_uri": "https://localhost:8080/"
        },
        "id": "KqRikZOdIwsU",
        "outputId": "2bfc70b4-fdf4-42ee-b16c-2eb477146d99"
      },
      "execution_count": 114,
      "outputs": [
        {
          "output_type": "execute_result",
          "data": {
            "text/plain": [
              "1    1000\n",
              "0    1000\n",
              "Name: Pleural Effusion, dtype: int64"
            ]
          },
          "metadata": {},
          "execution_count": 114
        }
      ]
    },
    {
      "cell_type": "code",
      "execution_count": 115,
      "metadata": {
        "colab": {
          "base_uri": "https://localhost:8080/",
          "height": 424
        },
        "id": "vQppItAOB-H2",
        "outputId": "73437a63-cafc-42b3-f556-390e21f41187"
      },
      "outputs": [
        {
          "output_type": "execute_result",
          "data": {
            "text/plain": [
              "      No Finding  Pleural Effusion  \\\n",
              "0              0                 1   \n",
              "1              0                 1   \n",
              "2              0                 1   \n",
              "3              1                 0   \n",
              "4              1                 0   \n",
              "...          ...               ...   \n",
              "7149           0                 1   \n",
              "7150           0                 1   \n",
              "7151           0                 1   \n",
              "7152           0                 1   \n",
              "7153           0                 1   \n",
              "\n",
              "                                                   Path  \n",
              "0     CheXpert-v1.0-small/train/patient01403/study2/...  \n",
              "1     CheXpert-v1.0-small/train/patient00826/study2/...  \n",
              "2     CheXpert-v1.0-small/train/patient03225/study2/...  \n",
              "3     CheXpert-v1.0-small/train/patient01360/study1/...  \n",
              "4     CheXpert-v1.0-small/train/patient01086/study2/...  \n",
              "...                                                 ...  \n",
              "7149  CheXpert-v1.0-small/train/patient00868/study2/...  \n",
              "7150  CheXpert-v1.0-small/train/patient01485/study3/...  \n",
              "7151  CheXpert-v1.0-small/train/patient02298/study2/...  \n",
              "7152  CheXpert-v1.0-small/train/patient03067/study2/...  \n",
              "7153  CheXpert-v1.0-small/train/patient03122/study47...  \n",
              "\n",
              "[7154 rows x 3 columns]"
            ],
            "text/html": [
              "\n",
              "  <div id=\"df-177046b8-a93a-4072-ad34-75d27a0a16e4\">\n",
              "    <div class=\"colab-df-container\">\n",
              "      <div>\n",
              "<style scoped>\n",
              "    .dataframe tbody tr th:only-of-type {\n",
              "        vertical-align: middle;\n",
              "    }\n",
              "\n",
              "    .dataframe tbody tr th {\n",
              "        vertical-align: top;\n",
              "    }\n",
              "\n",
              "    .dataframe thead th {\n",
              "        text-align: right;\n",
              "    }\n",
              "</style>\n",
              "<table border=\"1\" class=\"dataframe\">\n",
              "  <thead>\n",
              "    <tr style=\"text-align: right;\">\n",
              "      <th></th>\n",
              "      <th>No Finding</th>\n",
              "      <th>Pleural Effusion</th>\n",
              "      <th>Path</th>\n",
              "    </tr>\n",
              "  </thead>\n",
              "  <tbody>\n",
              "    <tr>\n",
              "      <th>0</th>\n",
              "      <td>0</td>\n",
              "      <td>1</td>\n",
              "      <td>CheXpert-v1.0-small/train/patient01403/study2/...</td>\n",
              "    </tr>\n",
              "    <tr>\n",
              "      <th>1</th>\n",
              "      <td>0</td>\n",
              "      <td>1</td>\n",
              "      <td>CheXpert-v1.0-small/train/patient00826/study2/...</td>\n",
              "    </tr>\n",
              "    <tr>\n",
              "      <th>2</th>\n",
              "      <td>0</td>\n",
              "      <td>1</td>\n",
              "      <td>CheXpert-v1.0-small/train/patient03225/study2/...</td>\n",
              "    </tr>\n",
              "    <tr>\n",
              "      <th>3</th>\n",
              "      <td>1</td>\n",
              "      <td>0</td>\n",
              "      <td>CheXpert-v1.0-small/train/patient01360/study1/...</td>\n",
              "    </tr>\n",
              "    <tr>\n",
              "      <th>4</th>\n",
              "      <td>1</td>\n",
              "      <td>0</td>\n",
              "      <td>CheXpert-v1.0-small/train/patient01086/study2/...</td>\n",
              "    </tr>\n",
              "    <tr>\n",
              "      <th>...</th>\n",
              "      <td>...</td>\n",
              "      <td>...</td>\n",
              "      <td>...</td>\n",
              "    </tr>\n",
              "    <tr>\n",
              "      <th>7149</th>\n",
              "      <td>0</td>\n",
              "      <td>1</td>\n",
              "      <td>CheXpert-v1.0-small/train/patient00868/study2/...</td>\n",
              "    </tr>\n",
              "    <tr>\n",
              "      <th>7150</th>\n",
              "      <td>0</td>\n",
              "      <td>1</td>\n",
              "      <td>CheXpert-v1.0-small/train/patient01485/study3/...</td>\n",
              "    </tr>\n",
              "    <tr>\n",
              "      <th>7151</th>\n",
              "      <td>0</td>\n",
              "      <td>1</td>\n",
              "      <td>CheXpert-v1.0-small/train/patient02298/study2/...</td>\n",
              "    </tr>\n",
              "    <tr>\n",
              "      <th>7152</th>\n",
              "      <td>0</td>\n",
              "      <td>1</td>\n",
              "      <td>CheXpert-v1.0-small/train/patient03067/study2/...</td>\n",
              "    </tr>\n",
              "    <tr>\n",
              "      <th>7153</th>\n",
              "      <td>0</td>\n",
              "      <td>1</td>\n",
              "      <td>CheXpert-v1.0-small/train/patient03122/study47...</td>\n",
              "    </tr>\n",
              "  </tbody>\n",
              "</table>\n",
              "<p>7154 rows × 3 columns</p>\n",
              "</div>\n",
              "      <button class=\"colab-df-convert\" onclick=\"convertToInteractive('df-177046b8-a93a-4072-ad34-75d27a0a16e4')\"\n",
              "              title=\"Convert this dataframe to an interactive table.\"\n",
              "              style=\"display:none;\">\n",
              "        \n",
              "  <svg xmlns=\"http://www.w3.org/2000/svg\" height=\"24px\"viewBox=\"0 0 24 24\"\n",
              "       width=\"24px\">\n",
              "    <path d=\"M0 0h24v24H0V0z\" fill=\"none\"/>\n",
              "    <path d=\"M18.56 5.44l.94 2.06.94-2.06 2.06-.94-2.06-.94-.94-2.06-.94 2.06-2.06.94zm-11 1L8.5 8.5l.94-2.06 2.06-.94-2.06-.94L8.5 2.5l-.94 2.06-2.06.94zm10 10l.94 2.06.94-2.06 2.06-.94-2.06-.94-.94-2.06-.94 2.06-2.06.94z\"/><path d=\"M17.41 7.96l-1.37-1.37c-.4-.4-.92-.59-1.43-.59-.52 0-1.04.2-1.43.59L10.3 9.45l-7.72 7.72c-.78.78-.78 2.05 0 2.83L4 21.41c.39.39.9.59 1.41.59.51 0 1.02-.2 1.41-.59l7.78-7.78 2.81-2.81c.8-.78.8-2.07 0-2.86zM5.41 20L4 18.59l7.72-7.72 1.47 1.35L5.41 20z\"/>\n",
              "  </svg>\n",
              "      </button>\n",
              "      \n",
              "  <style>\n",
              "    .colab-df-container {\n",
              "      display:flex;\n",
              "      flex-wrap:wrap;\n",
              "      gap: 12px;\n",
              "    }\n",
              "\n",
              "    .colab-df-convert {\n",
              "      background-color: #E8F0FE;\n",
              "      border: none;\n",
              "      border-radius: 50%;\n",
              "      cursor: pointer;\n",
              "      display: none;\n",
              "      fill: #1967D2;\n",
              "      height: 32px;\n",
              "      padding: 0 0 0 0;\n",
              "      width: 32px;\n",
              "    }\n",
              "\n",
              "    .colab-df-convert:hover {\n",
              "      background-color: #E2EBFA;\n",
              "      box-shadow: 0px 1px 2px rgba(60, 64, 67, 0.3), 0px 1px 3px 1px rgba(60, 64, 67, 0.15);\n",
              "      fill: #174EA6;\n",
              "    }\n",
              "\n",
              "    [theme=dark] .colab-df-convert {\n",
              "      background-color: #3B4455;\n",
              "      fill: #D2E3FC;\n",
              "    }\n",
              "\n",
              "    [theme=dark] .colab-df-convert:hover {\n",
              "      background-color: #434B5C;\n",
              "      box-shadow: 0px 1px 3px 1px rgba(0, 0, 0, 0.15);\n",
              "      filter: drop-shadow(0px 1px 2px rgba(0, 0, 0, 0.3));\n",
              "      fill: #FFFFFF;\n",
              "    }\n",
              "  </style>\n",
              "\n",
              "      <script>\n",
              "        const buttonEl =\n",
              "          document.querySelector('#df-177046b8-a93a-4072-ad34-75d27a0a16e4 button.colab-df-convert');\n",
              "        buttonEl.style.display =\n",
              "          google.colab.kernel.accessAllowed ? 'block' : 'none';\n",
              "\n",
              "        async function convertToInteractive(key) {\n",
              "          const element = document.querySelector('#df-177046b8-a93a-4072-ad34-75d27a0a16e4');\n",
              "          const dataTable =\n",
              "            await google.colab.kernel.invokeFunction('convertToInteractive',\n",
              "                                                     [key], {});\n",
              "          if (!dataTable) return;\n",
              "\n",
              "          const docLinkHtml = 'Like what you see? Visit the ' +\n",
              "            '<a target=\"_blank\" href=https://colab.research.google.com/notebooks/data_table.ipynb>data table notebook</a>'\n",
              "            + ' to learn more about interactive tables.';\n",
              "          element.innerHTML = '';\n",
              "          dataTable['output_type'] = 'display_data';\n",
              "          await google.colab.output.renderOutput(dataTable, element);\n",
              "          const docLink = document.createElement('div');\n",
              "          docLink.innerHTML = docLinkHtml;\n",
              "          element.appendChild(docLink);\n",
              "        }\n",
              "      </script>\n",
              "    </div>\n",
              "  </div>\n",
              "  "
            ]
          },
          "metadata": {},
          "execution_count": 115
        }
      ],
      "source": [
        "df_filtered"
      ]
    },
    {
      "cell_type": "code",
      "execution_count": 116,
      "metadata": {
        "colab": {
          "base_uri": "https://localhost:8080/"
        },
        "id": "IW_JlgMbOS6T",
        "outputId": "f10c3ecf-2e10-423e-b10d-9713923a4aff"
      },
      "outputs": [
        {
          "output_type": "execute_result",
          "data": {
            "text/plain": [
              "['drive/MyDrive/Deep-Learning/CheXpert-v1.0-small/train/patient00317/study2/view1_frontal.jpg',\n",
              " 'drive/MyDrive/Deep-Learning/CheXpert-v1.0-small/train/patient00142/study3/view1_frontal.jpg',\n",
              " 'drive/MyDrive/Deep-Learning/CheXpert-v1.0-small/train/patient01215/study4/view2_frontal.jpg',\n",
              " 'drive/MyDrive/Deep-Learning/CheXpert-v1.0-small/train/patient02778/study4/view1_frontal.jpg',\n",
              " 'drive/MyDrive/Deep-Learning/CheXpert-v1.0-small/train/patient02382/study10/view1_frontal.jpg',\n",
              " 'drive/MyDrive/Deep-Learning/CheXpert-v1.0-small/train/patient02015/study3/view1_frontal.jpg',\n",
              " 'drive/MyDrive/Deep-Learning/CheXpert-v1.0-small/train/patient00886/study2/view1_frontal.jpg',\n",
              " 'drive/MyDrive/Deep-Learning/CheXpert-v1.0-small/train/patient01547/study8/view1_frontal.jpg',\n",
              " 'drive/MyDrive/Deep-Learning/CheXpert-v1.0-small/train/patient00886/study1/view1_frontal.jpg',\n",
              " 'drive/MyDrive/Deep-Learning/CheXpert-v1.0-small/train/patient01817/study10/view1_frontal.jpg']"
            ]
          },
          "metadata": {},
          "execution_count": 116
        }
      ],
      "source": [
        "# Create pathnames from image Path\n",
        "#filenames = []\n",
        "filenames = [\"drive/MyDrive/Deep-Learning/\" + fname for fname in df_sampled[\"Path\"]]\n",
        "\n",
        "# Check the first 10\n",
        "filenames[:10]"
      ]
    },
    {
      "cell_type": "code",
      "execution_count": 117,
      "metadata": {
        "id": "gJPzijSzCTyD"
      },
      "outputs": [],
      "source": [
        "\n",
        "array_images_classification =[]\n",
        "\n",
        "for j in range(len(df_sampled[\"Path\"])):\n",
        "  path = df_sampled[\"Path\"][j]\n",
        "  classifications = []\n",
        "  for i in class_names:\n",
        "    classifications.append(df_sampled[i][j])\n",
        "  array_images_classification.append(classifications)"
      ]
    },
    {
      "cell_type": "code",
      "execution_count": 118,
      "metadata": {
        "id": "ghBtBGE3f8N3"
      },
      "outputs": [],
      "source": [
        "#array_images_classification"
      ]
    },
    {
      "cell_type": "code",
      "execution_count": 119,
      "metadata": {
        "id": "3g4zIA3RCUfb"
      },
      "outputs": [],
      "source": [
        "\n",
        "array_images_classification[:2]\n",
        "# one-hot encode the labels\n",
        "labels = np.array(array_images_classification)"
      ]
    },
    {
      "cell_type": "code",
      "execution_count": 120,
      "metadata": {
        "colab": {
          "base_uri": "https://localhost:8080/"
        },
        "id": "oTTmtOn4TSwL",
        "outputId": "d0abf580-473b-4565-96a0-61bc0e13955a"
      },
      "outputs": [
        {
          "output_type": "execute_result",
          "data": {
            "text/plain": [
              "(2000, 2000)"
            ]
          },
          "metadata": {},
          "execution_count": 120
        }
      ],
      "source": [
        "len(labels), len(filenames)"
      ]
    },
    {
      "cell_type": "markdown",
      "metadata": {
        "id": "M8Enol_uPWTW"
      },
      "source": [
        "## Outro teste"
      ]
    },
    {
      "cell_type": "code",
      "execution_count": 121,
      "metadata": {
        "id": "5K7SB1A9PgmY"
      },
      "outputs": [],
      "source": [
        "labels_formatted = []\n",
        "\n",
        "for i in labels:\n",
        "  if i[0] == 1:\n",
        "    labels_formatted.append(class_names[0])\n",
        "  elif i[1] == 1:\n",
        "    labels_formatted.append(class_names[1])\n",
        "  else:\n",
        "    labels_formatted.append(class_names[0])\n",
        "    "
      ]
    },
    {
      "cell_type": "code",
      "execution_count": 122,
      "metadata": {
        "colab": {
          "base_uri": "https://localhost:8080/"
        },
        "id": "EG_WryBha8c9",
        "outputId": "a029feb0-ce87-4bff-ff74-eb2b75ba7e86"
      },
      "outputs": [
        {
          "output_type": "execute_result",
          "data": {
            "text/plain": [
              "['Pleural Effusion',\n",
              " 'Pleural Effusion',\n",
              " 'Pleural Effusion',\n",
              " 'Pleural Effusion',\n",
              " 'Pleural Effusion',\n",
              " 'Pleural Effusion',\n",
              " 'Pleural Effusion',\n",
              " 'Pleural Effusion',\n",
              " 'Pleural Effusion',\n",
              " 'Pleural Effusion']"
            ]
          },
          "metadata": {},
          "execution_count": 122
        }
      ],
      "source": [
        "labels_formatted[:10]"
      ]
    },
    {
      "cell_type": "code",
      "execution_count": 123,
      "metadata": {
        "colab": {
          "base_uri": "https://localhost:8080/"
        },
        "id": "WiFpBJN1P4rE",
        "outputId": "bfcbc359-9239-4ab0-e486-d490bc683ddd"
      },
      "outputs": [
        {
          "output_type": "execute_result",
          "data": {
            "text/plain": [
              "2000"
            ]
          },
          "metadata": {},
          "execution_count": 123
        }
      ],
      "source": [
        "labels_formatted = np.array(labels_formatted, dtype=object)\n",
        "len(labels_formatted)"
      ]
    },
    {
      "cell_type": "code",
      "execution_count": 124,
      "metadata": {
        "colab": {
          "base_uri": "https://localhost:8080/"
        },
        "id": "ZgmOa38VRdKv",
        "outputId": "799c5693-234a-4215-f54a-1772a9103da7"
      },
      "outputs": [
        {
          "output_type": "execute_result",
          "data": {
            "text/plain": [
              "array(['No Finding', 'Pleural Effusion'], dtype=object)"
            ]
          },
          "metadata": {},
          "execution_count": 124
        }
      ],
      "source": [
        "class_names_formatted = np.array(class_names, dtype=object)\n",
        "class_names_formatted"
      ]
    },
    {
      "cell_type": "code",
      "execution_count": 125,
      "metadata": {
        "colab": {
          "base_uri": "https://localhost:8080/"
        },
        "id": "UWmey0skSbNr",
        "outputId": "423cf5f1-a76e-4c5e-84e6-3eb1793b7aca"
      },
      "outputs": [
        {
          "output_type": "execute_result",
          "data": {
            "text/plain": [
              "(2000, 2000, 2)"
            ]
          },
          "metadata": {},
          "execution_count": 125
        }
      ],
      "source": [
        "len(labels_formatted), len(filenames), len(class_names_formatted)"
      ]
    },
    {
      "cell_type": "code",
      "execution_count": 126,
      "metadata": {
        "colab": {
          "base_uri": "https://localhost:8080/"
        },
        "id": "s5ONdB12SFX1",
        "outputId": "550ff515-b6d0-4341-e3f0-d6351e17cfb5"
      },
      "outputs": [
        {
          "output_type": "stream",
          "name": "stdout",
          "text": [
            "Pleural Effusion\n"
          ]
        },
        {
          "output_type": "execute_result",
          "data": {
            "text/plain": [
              "array([False,  True])"
            ]
          },
          "metadata": {},
          "execution_count": 126
        }
      ],
      "source": [
        "# Turn a single label into an array of booleans\n",
        "print(labels_formatted[0])\n",
        "labels_formatted[0] == class_names_formatted"
      ]
    },
    {
      "cell_type": "code",
      "execution_count": 127,
      "metadata": {
        "colab": {
          "base_uri": "https://localhost:8080/"
        },
        "id": "wIohn1RJQFfR",
        "outputId": "956456a2-d6d5-468e-cfd9-a9e33a9a8198"
      },
      "outputs": [
        {
          "output_type": "execute_result",
          "data": {
            "text/plain": [
              "[array([False,  True]),\n",
              " array([False,  True]),\n",
              " array([False,  True]),\n",
              " array([False,  True])]"
            ]
          },
          "metadata": {},
          "execution_count": 127
        }
      ],
      "source": [
        "# Turn every label into a boolean array\n",
        "boolean_labels = [test == class_names_formatted for test in labels_formatted]\n",
        "boolean_labels[:4]"
      ]
    },
    {
      "cell_type": "code",
      "execution_count": 128,
      "metadata": {
        "colab": {
          "base_uri": "https://localhost:8080/"
        },
        "id": "AXNOxkBqRiKd",
        "outputId": "b2c4affc-7262-4c07-d952-953d126dfd3d"
      },
      "outputs": [
        {
          "output_type": "stream",
          "name": "stdout",
          "text": [
            "Pleural Effusion\n",
            "(array([1]),)\n",
            "[False  True]\n",
            "[0 1]\n"
          ]
        }
      ],
      "source": [
        "# Example: Turning boolean array into intergers\n",
        "print(labels_formatted[0]) # original label\n",
        "print(np.where(class_names_formatted == labels_formatted[0])) # index where label occurs\n",
        "print(boolean_labels[0]) # index where label occurs in boolean array\n",
        "print(boolean_labels[0].astype(int)) # there will be a 1 where the sample label occurs"
      ]
    },
    {
      "cell_type": "code",
      "execution_count": 129,
      "metadata": {
        "id": "XoHZmBDlVK6X"
      },
      "outputs": [],
      "source": [
        "# Setup X & y variables\n",
        "X = filenames\n",
        "y = boolean_labels"
      ]
    },
    {
      "cell_type": "code",
      "execution_count": 130,
      "metadata": {
        "colab": {
          "base_uri": "https://localhost:8080/"
        },
        "id": "v7ptgw_qVNdC",
        "outputId": "ed666c8f-095a-4d04-a1ff-dfa182be5229"
      },
      "outputs": [
        {
          "output_type": "execute_result",
          "data": {
            "text/plain": [
              "(2000, 2000)"
            ]
          },
          "metadata": {},
          "execution_count": 130
        }
      ],
      "source": [
        "len(filenames), len(boolean_labels)"
      ]
    },
    {
      "cell_type": "code",
      "execution_count": 131,
      "metadata": {
        "colab": {
          "base_uri": "https://localhost:8080/"
        },
        "id": "pFe0DIEMVOSv",
        "outputId": "55e4b7e2-9299-4f25-8988-f4e906d38c8f"
      },
      "outputs": [
        {
          "output_type": "execute_result",
          "data": {
            "text/plain": [
              "(1600, 1600, 400, 400)"
            ]
          },
          "metadata": {},
          "execution_count": 131
        }
      ],
      "source": [
        "from sklearn.model_selection import train_test_split\n",
        "\n",
        "# Split them into training and validation\n",
        "X_train, X_val, y_train, y_val = train_test_split(X,\n",
        "                                                  y,\n",
        "                                                  test_size=0.2,\n",
        "                                                  random_state=42)\n",
        "\n",
        "len(X_train), len(y_train), len(X_val), len(y_val)"
      ]
    },
    {
      "cell_type": "code",
      "execution_count": 132,
      "metadata": {
        "colab": {
          "base_uri": "https://localhost:8080/"
        },
        "id": "fM3TklzSVQmQ",
        "outputId": "713bea7f-1e70-4369-cdb2-455abc581646"
      },
      "outputs": [
        {
          "output_type": "execute_result",
          "data": {
            "text/plain": [
              "(320, 389)"
            ]
          },
          "metadata": {},
          "execution_count": 132
        }
      ],
      "source": [
        "# Convert image to NumPy array\n",
        "from matplotlib.pyplot import imread\n",
        "image = imread(filenames[10])\n",
        "image.shape"
      ]
    },
    {
      "cell_type": "code",
      "execution_count": 133,
      "metadata": {
        "id": "4E2Xw3OfVSve"
      },
      "outputs": [],
      "source": [
        "# Define image size\n",
        "IMG_SIZE = 224\n",
        "\n",
        "# Create a function for preprocessing images\n",
        "def process_image(image_path: str, img_size:int=IMG_SIZE) -> tf.constant:\n",
        "  # Read in an image file\n",
        "  image = tf.io.read_file(image_path)\n",
        "  # Turn the jpeg image into numerical Tensor with 3 colour channels (Red, Green, Blue)\n",
        "  image = tf.image.decode_jpeg(image, channels=3)\n",
        "  # Convert the colour channels values from 0-255 to 0-1 values\n",
        "  image = tf.image.convert_image_dtype(image, tf.float32)\n",
        "  # Resize the image to our desired value (224, 224)\n",
        "  image = tf.image.resize(image, size=[IMG_SIZE, IMG_SIZE])\n",
        "\n",
        "  print(type(image))\n",
        "\n",
        "  return image\n",
        "\n"
      ]
    },
    {
      "cell_type": "code",
      "execution_count": 134,
      "metadata": {
        "id": "TvmBw0CYVVw2"
      },
      "outputs": [],
      "source": [
        "# Simple function to return a tuple (image, label)\n",
        "def get_image_label(image_path, label):\n",
        "  image = process_image(image_path)\n",
        "  return image, label"
      ]
    },
    {
      "cell_type": "code",
      "execution_count": 135,
      "metadata": {
        "colab": {
          "base_uri": "https://localhost:8080/"
        },
        "id": "n7TW0ulvVXT1",
        "outputId": "2d273545-94b4-4b02-b0c3-9fd856da9427"
      },
      "outputs": [
        {
          "output_type": "stream",
          "name": "stdout",
          "text": [
            "<class 'tensorflow.python.framework.ops.EagerTensor'>\n"
          ]
        },
        {
          "output_type": "execute_result",
          "data": {
            "text/plain": [
              "(<tf.Tensor: shape=(224, 224, 3), dtype=float32, numpy=\n",
              " array([[[0.0000000e+00, 0.0000000e+00, 0.0000000e+00],\n",
              "         [0.0000000e+00, 0.0000000e+00, 0.0000000e+00],\n",
              "         [0.0000000e+00, 0.0000000e+00, 0.0000000e+00],\n",
              "         ...,\n",
              "         [3.9215689e-03, 3.9215689e-03, 3.9215689e-03],\n",
              "         [3.9215689e-03, 3.9215689e-03, 3.9215689e-03],\n",
              "         [3.9215689e-03, 3.9215689e-03, 3.9215689e-03]],\n",
              " \n",
              "        [[0.0000000e+00, 0.0000000e+00, 0.0000000e+00],\n",
              "         [0.0000000e+00, 0.0000000e+00, 0.0000000e+00],\n",
              "         [0.0000000e+00, 0.0000000e+00, 0.0000000e+00],\n",
              "         ...,\n",
              "         [3.9215689e-03, 3.9215689e-03, 3.9215689e-03],\n",
              "         [3.9215689e-03, 3.9215689e-03, 3.9215689e-03],\n",
              "         [3.9215689e-03, 3.9215689e-03, 3.9215689e-03]],\n",
              " \n",
              "        [[0.0000000e+00, 0.0000000e+00, 0.0000000e+00],\n",
              "         [2.9386878e-05, 2.9386878e-05, 2.9386878e-05],\n",
              "         [5.1583286e-04, 5.1583286e-04, 5.1583286e-04],\n",
              "         ...,\n",
              "         [3.9215689e-03, 3.9215689e-03, 3.9215689e-03],\n",
              "         [3.9215689e-03, 3.9215689e-03, 3.9215689e-03],\n",
              "         [3.9215689e-03, 3.9215689e-03, 3.9215689e-03]],\n",
              " \n",
              "        ...,\n",
              " \n",
              "        [[3.2768902e-01, 3.2768902e-01, 3.2768902e-01],\n",
              "         [3.5300195e-02, 3.5300195e-02, 3.5300195e-02],\n",
              "         [4.5052014e-02, 4.5052014e-02, 4.5052014e-02],\n",
              "         ...,\n",
              "         [1.1764707e-02, 1.1764707e-02, 1.1764707e-02],\n",
              "         [1.1764707e-02, 1.1764707e-02, 1.1764707e-02],\n",
              "         [1.1764707e-02, 1.1764707e-02, 1.1764707e-02]],\n",
              " \n",
              "        [[1.1670623e-01, 1.1670623e-01, 1.1670623e-01],\n",
              "         [2.6373670e-02, 2.6373670e-02, 2.6373670e-02],\n",
              "         [3.5496101e-02, 3.5496101e-02, 3.5496101e-02],\n",
              "         ...,\n",
              "         [1.1764707e-02, 1.1764707e-02, 1.1764707e-02],\n",
              "         [1.1764707e-02, 1.1764707e-02, 1.1764707e-02],\n",
              "         [1.1764707e-02, 1.1764707e-02, 1.1764707e-02]],\n",
              " \n",
              "        [[3.1784713e-02, 3.1784713e-02, 3.1784713e-02],\n",
              "         [2.9074864e-02, 2.9074864e-02, 2.9074864e-02],\n",
              "         [4.7145959e-02, 4.7145959e-02, 4.7145959e-02],\n",
              "         ...,\n",
              "         [1.1764707e-02, 1.1764707e-02, 1.1764707e-02],\n",
              "         [1.1764707e-02, 1.1764707e-02, 1.1764707e-02],\n",
              "         [1.1764707e-02, 1.1764707e-02, 1.1764707e-02]]], dtype=float32)>,\n",
              " <tf.Tensor: shape=(2,), dtype=bool, numpy=array([False,  True])>)"
            ]
          },
          "metadata": {},
          "execution_count": 135
        }
      ],
      "source": [
        "(process_image(X[10]), tf.constant(y[10]))"
      ]
    },
    {
      "cell_type": "code",
      "execution_count": 136,
      "metadata": {
        "id": "geBk9jFOVYOE"
      },
      "outputs": [],
      "source": [
        "BATCH_SIZE = 16\n",
        "def create_data_batches(X, y=None, batch_size=BATCH_SIZE, valid_data=False, test_data=False):\n",
        "  if test_data:\n",
        "    print(\"Creating test data batches...\")\n",
        "    data = tf.data.Dataset.from_tensor_slices((tf.constant(X))) # only filepaths (no labels)\n",
        "    data_batch = data.map(process_image).batch(BATCH_SIZE)\n",
        "    return data_batch\n",
        "\n",
        "  elif valid_data:\n",
        "    print(\"Creating validation data batches...\")\n",
        "    data = tf.data.Dataset.from_tensor_slices((tf.constant(X), # filepaths\n",
        "                                               tf.constant(y))) # labels\n",
        "\n",
        "    data_batch = data.map(get_image_label).batch(BATCH_SIZE)\n",
        "    return data_batch\n",
        "\n",
        "  else:\n",
        "    print(\"Creating training data batches...\")\n",
        "    # Turn filepaths and labels into Tensors\n",
        "    data = tf.data.Dataset.from_tensor_slices((tf.constant(X), # filepaths\n",
        "                                               tf.constant(y))) # labels\n",
        "    # Shuffling pathnames and labels before mapping image processor function is faster than shuffling images\n",
        "    data = data.shuffle(buffer_size=len(X))\n",
        "\n",
        "    # Create (image, label) tuples (this also turns the image path into a preprocessed image)\n",
        "    data = data.map(get_image_label)\n",
        "\n",
        "    # Turn the training data into batches\n",
        "    data_batch = data.batch(BATCH_SIZE)\n",
        "\n",
        "  return data_batch"
      ]
    },
    {
      "cell_type": "code",
      "execution_count": 137,
      "metadata": {
        "colab": {
          "base_uri": "https://localhost:8080/"
        },
        "id": "lgxt0kjlVcjH",
        "outputId": "8f4a9b7f-a1f2-4b03-a520-816e4a3023c2"
      },
      "outputs": [
        {
          "output_type": "stream",
          "name": "stdout",
          "text": [
            "Creating training data batches...\n",
            "<class 'tensorflow.python.framework.ops.Tensor'>\n",
            "Creating validation data batches...\n",
            "<class 'tensorflow.python.framework.ops.Tensor'>\n"
          ]
        }
      ],
      "source": [
        "# Create training and validation data batches\n",
        "train_data = create_data_batches(X_train, y_train)\n",
        "val_data = create_data_batches(X_val, y_val, valid_data=True)"
      ]
    },
    {
      "cell_type": "code",
      "execution_count": 138,
      "metadata": {
        "colab": {
          "base_uri": "https://localhost:8080/"
        },
        "id": "sHrtmipYVhWe",
        "outputId": "a6118cb3-3b8f-4b61-9804-9b88f9703fec"
      },
      "outputs": [
        {
          "output_type": "execute_result",
          "data": {
            "text/plain": [
              "((TensorSpec(shape=(None, 224, 224, 3), dtype=tf.float32, name=None),\n",
              "  TensorSpec(shape=(None, 2), dtype=tf.bool, name=None)),\n",
              " (TensorSpec(shape=(None, 224, 224, 3), dtype=tf.float32, name=None),\n",
              "  TensorSpec(shape=(None, 2), dtype=tf.bool, name=None)))"
            ]
          },
          "metadata": {},
          "execution_count": 138
        }
      ],
      "source": [
        "# Check out the different attributes of our data batches\n",
        "train_data.element_spec, val_data.element_spec"
      ]
    },
    {
      "cell_type": "code",
      "execution_count": 139,
      "metadata": {
        "id": "bcYXHYNLVi3-"
      },
      "outputs": [],
      "source": [
        "import matplotlib.pyplot as plt\n",
        "\n",
        "\n",
        "def show_images(images, labels):\n",
        "  # Setup the figure\n",
        "  plt.figure(figsize=(10, 10))\n",
        "  # Loop through 3 (for displaying 3 images)\n",
        "  for i in range(3):\n",
        "    # Create subplots (5 rows, 5 columns)\n",
        "    ax = plt.subplot(5, 5, i+1)\n",
        "    # Display an image\n",
        "    plt.imshow(images[i])\n",
        "    # Add the image label as the title\n",
        "    plt.title(class_names_formatted[labels[i].argmax()])\n",
        "    # Turn the grid lines off\n",
        "    plt.axis(\"off\")"
      ]
    },
    {
      "cell_type": "code",
      "execution_count": 140,
      "metadata": {
        "colab": {
          "base_uri": "https://localhost:8080/",
          "height": 192
        },
        "id": "P7g8e66xVnn7",
        "outputId": "9b02439b-a6e6-4c8f-e433-e8198120dba9"
      },
      "outputs": [
        {
          "output_type": "display_data",
          "data": {
            "text/plain": [
              "<Figure size 1000x1000 with 3 Axes>"
            ],
            "image/png": "[encoded data removed]"
          },
          "metadata": {}
        }
      ],
      "source": [
        "train_images, train_labels = next(train_data.as_numpy_iterator())\n",
        "# Now let's visualize the data in a training batch\n",
        "show_images(train_images, train_labels)"
      ]
    },
    {
      "cell_type": "code",
      "execution_count": 141,
      "metadata": {
        "id": "je4Mo1nXVviu"
      },
      "outputs": [],
      "source": [
        "# Setup input shape to the model\n",
        "INPUT_SHAPE = [None, IMG_SIZE, IMG_SIZE, 3] # batch, height, width, colour channels\n",
        "\n",
        "# Setup output shape of our model\n",
        "OUTPUT_SHAPE = len(class_names_formatted)\n",
        "\n",
        "# Setup model URL from TensorFlow Hub\n",
        "#MODEL_URL = \"https://tfhub.dev/google/imagenet/resnet_v1_152/classification/5\"\n",
        "MODEL_URL = \"https://tfhub.dev/google/imagenet/mobilenet_v2_130_224/classification/5\""
      ]
    },
    {
      "cell_type": "code",
      "execution_count": 142,
      "metadata": {
        "id": "phyFwtKXWDhp"
      },
      "outputs": [],
      "source": [
        "# Create a function which builds a Keras model\n",
        "from tensorflow.keras.models import Model\n",
        "def create_model(input_shape=INPUT_SHAPE, output_shape=OUTPUT_SHAPE, model_url=MODEL_URL):\n",
        "\n",
        "  # Load the VGG16 model with pre-trained ImageNet weights\n",
        "  base_model = VGG16(weights=\"imagenet\", include_top=False, input_shape=(224, 224, 3))\n",
        "\n",
        "  # Add a custom classification head\n",
        "  x = base_model.output\n",
        "  x = Flatten()(x)\n",
        "  x = Dense(256, activation='relu')(x)\n",
        "  predictions = Dense(2, activation='softmax')(x)\n",
        "\n",
        "  # Create the final model\n",
        "  model = Model(inputs=base_model.input, outputs=predictions)\n",
        "\n",
        "  # Freeze the pre-trained layers\n",
        "  for layer in base_model.layers:\n",
        "      layer.trainable = False\n",
        "\n",
        "  # Compile the model\n",
        "  model.compile(\n",
        "      loss=tf.keras.losses.CategoricalCrossentropy(),\n",
        "      optimizer=tf.keras.optimizers.Adam(learning_rate=1e-4),\n",
        "      metrics=[\"accuracy\"]\n",
        "  )\n",
        "\n",
        "  # Build the model\n",
        "  #model.build(INPUT_SHAPE)\n",
        "\n",
        "  return model"
      ]
    },
    {
      "cell_type": "code",
      "execution_count": null,
      "metadata": {
        "colab": {
          "base_uri": "https://localhost:8080/"
        },
        "id": "hSMquLyvWGiP",
        "outputId": "a4769a69-b110-4fa7-a036-921dddc059c2"
      },
      "outputs": [
        {
          "output_type": "stream",
          "name": "stdout",
          "text": [
            "Model: \"model_4\"\n",
            "_________________________________________________________________\n",
            " Layer (type)                Output Shape              Param #   \n",
            "=================================================================\n",
            " input_5 (InputLayer)        [(None, 224, 224, 3)]     0         \n",
            "                                                                 \n",
            " block1_conv1 (Conv2D)       (None, 224, 224, 64)      1792      \n",
            "                                                                 \n",
            " block1_conv2 (Conv2D)       (None, 224, 224, 64)      36928     \n",
            "                                                                 \n",
            " block1_pool (MaxPooling2D)  (None, 112, 112, 64)      0         \n",
            "                                                                 \n",
            " block2_conv1 (Conv2D)       (None, 112, 112, 128)     73856     \n",
            "                                                                 \n",
            " block2_conv2 (Conv2D)       (None, 112, 112, 128)     147584    \n",
            "                                                                 \n",
            " block2_pool (MaxPooling2D)  (None, 56, 56, 128)       0         \n",
            "                                                                 \n",
            " block3_conv1 (Conv2D)       (None, 56, 56, 256)       295168    \n",
            "                                                                 \n",
            " block3_conv2 (Conv2D)       (None, 56, 56, 256)       590080    \n",
            "                                                                 \n",
            " block3_conv3 (Conv2D)       (None, 56, 56, 256)       590080    \n",
            "                                                                 \n",
            " block3_pool (MaxPooling2D)  (None, 28, 28, 256)       0         \n",
            "                                                                 \n",
            " block4_conv1 (Conv2D)       (None, 28, 28, 512)       1180160   \n",
            "                                                                 \n",
            " block4_conv2 (Conv2D)       (None, 28, 28, 512)       2359808   \n",
            "                                                                 \n",
            " block4_conv3 (Conv2D)       (None, 28, 28, 512)       2359808   \n",
            "                                                                 \n",
            " block4_pool (MaxPooling2D)  (None, 14, 14, 512)       0         \n",
            "                                                                 \n",
            " block5_conv1 (Conv2D)       (None, 14, 14, 512)       2359808   \n",
            "                                                                 \n",
            " block5_conv2 (Conv2D)       (None, 14, 14, 512)       2359808   \n",
            "                                                                 \n",
            " block5_conv3 (Conv2D)       (None, 14, 14, 512)       2359808   \n",
            "                                                                 \n",
            " block5_pool (MaxPooling2D)  (None, 7, 7, 512)         0         \n",
            "                                                                 \n",
            " flatten_4 (Flatten)         (None, 25088)             0         \n",
            "                                                                 \n",
            " dense_8 (Dense)             (None, 256)               6422784   \n",
            "                                                                 \n",
            " dense_9 (Dense)             (None, 2)                 514       \n",
            "                                                                 \n",
            "=================================================================\n",
            "Total params: 21,137,986\n",
            "Trainable params: 6,423,298\n",
            "Non-trainable params: 14,714,688\n",
            "_________________________________________________________________\n"
          ]
        }
      ],
      "source": [
        "model = create_model()\n",
        "model.summary()"
      ]
    },
    {
      "cell_type": "code",
      "execution_count": 143,
      "metadata": {
        "id": "f6vqkyKBWHgK"
      },
      "outputs": [],
      "source": [
        "def train_model():\n",
        "  \"\"\"\n",
        "  Trains a given model and returns the trained version.\n",
        "  \"\"\"\n",
        "  # Create a model\n",
        "  model = create_model()\n",
        "  # Create early stopping callback\n",
        "  early_stopping = tf.keras.callbacks.EarlyStopping(monitor=\"val_accuracy\",\n",
        "                                                    patience=3)\n",
        "\n",
        "  # Fit the model to the data\n",
        "  model.fit(x=train_data,\n",
        "            epochs=5,\n",
        "            validation_data=val_data,\n",
        "            callbacks=[early_stopping])\n",
        "  \n",
        "  return model"
      ]
    },
    {
      "cell_type": "code",
      "execution_count": 144,
      "metadata": {
        "colab": {
          "base_uri": "https://localhost:8080/"
        },
        "id": "NikeOgdgWNlW",
        "outputId": "69759698-9f1f-4d31-c2dd-2d4ecf9e23ee"
      },
      "outputs": [
        {
          "output_type": "stream",
          "name": "stdout",
          "text": [
            "Epoch 1/5\n",
            "100/100 [==============================] - 1311s 13s/step - loss: 0.4859 - accuracy: 0.7688 - val_loss: 0.3613 - val_accuracy: 0.8775\n",
            "Epoch 2/5\n",
            "100/100 [==============================] - 1290s 13s/step - loss: 0.3444 - accuracy: 0.8544 - val_loss: 0.3846 - val_accuracy: 0.8600\n",
            "Epoch 3/5\n",
            "100/100 [==============================] - 1289s 13s/step - loss: 0.2510 - accuracy: 0.8975 - val_loss: 0.4041 - val_accuracy: 0.8450\n",
            "Epoch 4/5\n",
            "100/100 [==============================] - 1281s 13s/step - loss: 0.2149 - accuracy: 0.9194 - val_loss: 0.3658 - val_accuracy: 0.8525\n"
          ]
        }
      ],
      "source": [
        "# Fit the model to the data\n",
        "model = train_model()"
      ]
    },
    {
      "cell_type": "code",
      "execution_count": 145,
      "metadata": {
        "colab": {
          "base_uri": "https://localhost:8080/"
        },
        "id": "crtP8PIpI7tn",
        "outputId": "0a14b939-76ce-4041-91f5-ff846279eb8a"
      },
      "outputs": [
        {
          "output_type": "stream",
          "name": "stdout",
          "text": [
            "[0.768750011920929, 0.8543750047683716, 0.8974999785423279, 0.9193750023841858]\n"
          ]
        }
      ],
      "source": [
        "print(model.history.history[\"accuracy\"])"
      ]
    },
    {
      "cell_type": "code",
      "execution_count": 146,
      "metadata": {
        "colab": {
          "base_uri": "https://localhost:8080/",
          "height": 472
        },
        "id": "MLkBOFGpDk_e",
        "outputId": "c335a847-60a3-4efd-f652-fd378510091a"
      },
      "outputs": [
        {
          "output_type": "display_data",
          "data": {
            "text/plain": [
              "<Figure size 640x480 with 1 Axes>"
            ],
            "image/png": "[encoded data removed]"
          },
          "metadata": {}
        }
      ],
      "source": [
        "# access the history object and plot the loss\n",
        "plt.plot(model.history.history['loss'])\n",
        "plt.plot(model.history.history['val_loss'])\n",
        "plt.title('Model Loss')\n",
        "plt.ylabel('Loss')\n",
        "plt.xlabel('Epoch')\n",
        "plt.legend(['Train', 'Validation'], loc='upper left')\n",
        "plt.show()"
      ]
    },
    {
      "cell_type": "code",
      "execution_count": 147,
      "metadata": {
        "colab": {
          "base_uri": "https://localhost:8080/",
          "height": 472
        },
        "id": "z_uvaseUI4mS",
        "outputId": "82443c71-0b42-4659-b56f-d5798ea9b6f6"
      },
      "outputs": [
        {
          "output_type": "display_data",
          "data": {
            "text/plain": [
              "<Figure size 640x480 with 1 Axes>"
            ],
            "image/png": "[encoded data removed]"
          },
          "metadata": {}
        }
      ],
      "source": [
        "plt.plot(model.history.history['accuracy'])\n",
        "plt.plot(model.history.history['val_accuracy'])\n",
        "plt.title('Model Accuracy')\n",
        "plt.ylabel('Accuracy')\n",
        "plt.xlabel('Epoch')\n",
        "plt.legend(['Train', 'Validation'], loc='upper left')\n",
        "plt.show()"
      ]
    },
    {
      "cell_type": "code",
      "execution_count": 148,
      "metadata": {
        "colab": {
          "base_uri": "https://localhost:8080/"
        },
        "id": "gksjjNvGWPB2",
        "outputId": "d96a9b45-1e27-4813-c229-33632ec7c85b"
      },
      "outputs": [
        {
          "output_type": "stream",
          "name": "stdout",
          "text": [
            "25/25 [==============================] - 255s 10s/step\n"
          ]
        },
        {
          "output_type": "execute_result",
          "data": {
            "text/plain": [
              "array([[9.84761477e-01, 1.52384853e-02],\n",
              "       [2.09347069e-01, 7.90652871e-01],\n",
              "       [7.54079223e-02, 9.24592078e-01],\n",
              "       [1.66581631e-01, 8.33418310e-01],\n",
              "       [9.80782866e-01, 1.92170851e-02],\n",
              "       [8.94850075e-01, 1.05149850e-01],\n",
              "       [2.06630349e-01, 7.93369770e-01],\n",
              "       [9.93257701e-01, 6.74230698e-03],\n",
              "       [6.90437388e-03, 9.93095577e-01],\n",
              "       [9.89363074e-01, 1.06368931e-02],\n",
              "       [2.93592423e-01, 7.06407607e-01],\n",
              "       [4.82733697e-01, 5.17266214e-01],\n",
              "       [9.86449242e-01, 1.35507155e-02],\n",
              "       [3.97417367e-01, 6.02582633e-01],\n",
              "       [7.98547789e-02, 9.20145273e-01],\n",
              "       [9.58154425e-02, 9.04184461e-01],\n",
              "       [7.61792839e-01, 2.38207176e-01],\n",
              "       [1.89055011e-01, 8.10944974e-01],\n",
              "       [3.87667805e-01, 6.12332106e-01],\n",
              "       [9.50428963e-01, 4.95710224e-02],\n",
              "       [2.39278525e-02, 9.76072073e-01],\n",
              "       [9.52638268e-01, 4.73616756e-02],\n",
              "       [9.95162010e-01, 4.83792881e-03],\n",
              "       [9.92823601e-01, 7.17637222e-03],\n",
              "       [9.35453355e-01, 6.45465851e-02],\n",
              "       [8.28525662e-01, 1.71474263e-01],\n",
              "       [7.06871927e-01, 2.93127984e-01],\n",
              "       [4.70131673e-02, 9.52986836e-01],\n",
              "       [1.04702465e-01, 8.95297587e-01],\n",
              "       [1.22232027e-01, 8.77767980e-01],\n",
              "       [2.41398260e-01, 7.58601665e-01],\n",
              "       [3.41418177e-01, 6.58581913e-01],\n",
              "       [3.39403659e-01, 6.60596311e-01],\n",
              "       [2.93873042e-01, 7.06126928e-01],\n",
              "       [1.55071124e-01, 8.44928741e-01],\n",
              "       [5.03952801e-01, 4.96047169e-01],\n",
              "       [7.28955388e-01, 2.71044493e-01],\n",
              "       [9.82640088e-01, 1.73599422e-02],\n",
              "       [3.46791856e-02, 9.65320885e-01],\n",
              "       [1.22659087e-01, 8.77340853e-01],\n",
              "       [2.78217066e-02, 9.72178400e-01],\n",
              "       [9.89391506e-01, 1.06083872e-02],\n",
              "       [3.20903286e-02, 9.67909634e-01],\n",
              "       [2.93951551e-03, 9.97060478e-01],\n",
              "       [9.65442300e-01, 3.45577635e-02],\n",
              "       [5.02729863e-02, 9.49726939e-01],\n",
              "       [1.15885213e-01, 8.84114742e-01],\n",
              "       [5.30437410e-01, 4.69562620e-01],\n",
              "       [2.19637766e-01, 7.80362308e-01],\n",
              "       [2.65595585e-01, 7.34404445e-01],\n",
              "       [9.63282168e-01, 3.67178731e-02],\n",
              "       [7.96799585e-02, 9.20320094e-01],\n",
              "       [9.01262939e-01, 9.87371653e-02],\n",
              "       [2.55330980e-01, 7.44669020e-01],\n",
              "       [1.63649097e-02, 9.83635008e-01],\n",
              "       [9.65192556e-01, 3.48075107e-02],\n",
              "       [9.62537467e-01, 3.74625213e-02],\n",
              "       [9.98870254e-01, 1.12982502e-03],\n",
              "       [4.89286929e-02, 9.51071322e-01],\n",
              "       [3.56117189e-01, 6.43882811e-01],\n",
              "       [9.89584863e-01, 1.04151638e-02],\n",
              "       [2.27107629e-01, 7.72892356e-01],\n",
              "       [9.93032396e-01, 6.96748542e-03],\n",
              "       [9.80556667e-01, 1.94432046e-02],\n",
              "       [6.71779513e-01, 3.28220516e-01],\n",
              "       [9.90854084e-01, 9.14580282e-03],\n",
              "       [6.42431900e-04, 9.99357522e-01],\n",
              "       [9.97768342e-01, 2.23166402e-03],\n",
              "       [2.76794463e-01, 7.23205566e-01],\n",
              "       [9.95304465e-01, 4.69558826e-03],\n",
              "       [9.81725574e-01, 1.82745084e-02],\n",
              "       [1.41177773e-01, 8.58822227e-01],\n",
              "       [8.14062893e-01, 1.85937047e-01],\n",
              "       [4.28397894e-01, 5.71602046e-01],\n",
              "       [2.44506523e-01, 7.55493462e-01],\n",
              "       [1.67752564e-01, 8.32247436e-01],\n",
              "       [5.66703260e-01, 4.33296680e-01],\n",
              "       [1.27343042e-02, 9.87265706e-01],\n",
              "       [4.84506879e-03, 9.95154858e-01],\n",
              "       [9.96294558e-01, 3.70540051e-03],\n",
              "       [3.81377265e-02, 9.61862266e-01],\n",
              "       [4.04364228e-01, 5.95635891e-01],\n",
              "       [8.90495598e-01, 1.09504446e-01],\n",
              "       [7.93167412e-01, 2.06832603e-01],\n",
              "       [6.21358871e-01, 3.78641069e-01],\n",
              "       [9.15555537e-01, 8.44444111e-02],\n",
              "       [9.93298650e-01, 6.70136511e-03],\n",
              "       [3.84871364e-02, 9.61512744e-01],\n",
              "       [4.70847040e-02, 9.52915311e-01],\n",
              "       [8.09011757e-01, 1.90988258e-01],\n",
              "       [9.58984613e-01, 4.10153307e-02],\n",
              "       [6.17313564e-01, 3.82686436e-01],\n",
              "       [5.84711552e-01, 4.15288389e-01],\n",
              "       [1.16778323e-02, 9.88322198e-01],\n",
              "       [8.85829270e-01, 1.14170648e-01],\n",
              "       [9.49191928e-01, 5.08081093e-02],\n",
              "       [9.89169478e-01, 1.08305598e-02],\n",
              "       [9.26606119e-01, 7.33939111e-02],\n",
              "       [9.98240292e-01, 1.75968546e-03],\n",
              "       [9.65337813e-01, 3.46621312e-02],\n",
              "       [4.34054494e-01, 5.65945566e-01],\n",
              "       [1.78517640e-01, 8.21482301e-01],\n",
              "       [2.87292361e-01, 7.12707639e-01],\n",
              "       [9.91676211e-01, 8.32382869e-03],\n",
              "       [7.28569329e-01, 2.71430582e-01],\n",
              "       [2.53912270e-01, 7.46087730e-01],\n",
              "       [8.33191052e-02, 9.16680872e-01],\n",
              "       [8.98715332e-02, 9.10128534e-01],\n",
              "       [6.60979867e-01, 3.39020193e-01],\n",
              "       [5.18750697e-02, 9.48124766e-01],\n",
              "       [2.99750362e-02, 9.70024943e-01],\n",
              "       [9.47583616e-01, 5.24162948e-02],\n",
              "       [9.94760990e-01, 5.23902336e-03],\n",
              "       [9.64648366e-01, 3.53515223e-02],\n",
              "       [1.77532285e-02, 9.82246697e-01],\n",
              "       [2.26055101e-01, 7.73944855e-01],\n",
              "       [9.96718645e-01, 3.28142336e-03],\n",
              "       [1.38599783e-01, 8.61400187e-01],\n",
              "       [1.52397215e-01, 8.47602785e-01],\n",
              "       [1.94894999e-01, 8.05105031e-01],\n",
              "       [9.81494963e-01, 1.85050089e-02],\n",
              "       [9.93634999e-01, 6.36494858e-03],\n",
              "       [9.97420728e-01, 2.57919100e-03],\n",
              "       [6.59294985e-03, 9.93407011e-01],\n",
              "       [2.72591189e-02, 9.72740889e-01],\n",
              "       [9.38304737e-02, 9.06169474e-01],\n",
              "       [4.43281326e-03, 9.95567083e-01],\n",
              "       [4.10672635e-01, 5.89327395e-01],\n",
              "       [9.68296349e-01, 3.17034796e-02],\n",
              "       [7.09979460e-02, 9.29002047e-01],\n",
              "       [9.77937043e-01, 2.20628586e-02],\n",
              "       [9.84239101e-01, 1.57609023e-02],\n",
              "       [8.78834486e-01, 1.21165641e-01],\n",
              "       [8.51632729e-02, 9.14836705e-01],\n",
              "       [7.08171353e-02, 9.29182768e-01],\n",
              "       [9.75880742e-01, 2.41192803e-02],\n",
              "       [4.47873712e-01, 5.52126408e-01],\n",
              "       [9.80037689e-01, 1.99622829e-02],\n",
              "       [9.30523276e-01, 6.94767460e-02],\n",
              "       [1.32145971e-01, 8.67853999e-01],\n",
              "       [9.92475152e-01, 7.52480142e-03],\n",
              "       [1.25664547e-01, 8.74335527e-01],\n",
              "       [9.55471218e-01, 4.45287712e-02],\n",
              "       [2.57040620e-01, 7.42959440e-01],\n",
              "       [9.99217570e-01, 7.82421906e-04],\n",
              "       [1.44585624e-01, 8.55414391e-01],\n",
              "       [8.91702026e-02, 9.10829842e-01],\n",
              "       [9.65213478e-01, 3.47864777e-02],\n",
              "       [2.27206573e-02, 9.77279305e-01],\n",
              "       [2.00483650e-01, 7.99516320e-01],\n",
              "       [9.77913737e-01, 2.20862012e-02],\n",
              "       [2.71631241e-01, 7.28368700e-01],\n",
              "       [9.03420448e-02, 9.09657896e-01],\n",
              "       [9.44161594e-01, 5.58383465e-02],\n",
              "       [4.51091044e-02, 9.54890966e-01],\n",
              "       [4.61650901e-02, 9.53834832e-01],\n",
              "       [7.78446048e-02, 9.22155380e-01],\n",
              "       [7.76260674e-01, 2.23739281e-01],\n",
              "       [8.11697066e-01, 1.88302889e-01],\n",
              "       [9.94525135e-01, 5.47486451e-03],\n",
              "       [3.76195041e-03, 9.96237993e-01],\n",
              "       [6.07608892e-02, 9.39239204e-01],\n",
              "       [6.62525892e-01, 3.37474108e-01],\n",
              "       [9.99431968e-01, 5.67927025e-04],\n",
              "       [9.97100711e-01, 2.89933686e-03],\n",
              "       [8.90593171e-01, 1.09406881e-01],\n",
              "       [9.74244535e-01, 2.57554743e-02],\n",
              "       [9.83452141e-01, 1.65479463e-02],\n",
              "       [1.59668222e-01, 8.40331733e-01],\n",
              "       [9.64346349e-01, 3.56536061e-02],\n",
              "       [9.30818260e-01, 6.91817254e-02],\n",
              "       [8.42877388e-01, 1.57122537e-01],\n",
              "       [9.51561630e-01, 4.84382845e-02],\n",
              "       [6.24193847e-01, 3.75806063e-01],\n",
              "       [5.83831251e-01, 4.16168720e-01],\n",
              "       [9.86141860e-01, 1.38581339e-02],\n",
              "       [2.35851738e-03, 9.97641563e-01],\n",
              "       [7.70748317e-01, 2.29251668e-01],\n",
              "       [7.57689834e-01, 2.42310211e-01],\n",
              "       [9.86349285e-01, 1.36506632e-02],\n",
              "       [7.60346174e-01, 2.39653870e-01],\n",
              "       [3.21867228e-01, 6.78132713e-01],\n",
              "       [2.79605299e-01, 7.20394671e-01],\n",
              "       [4.45932299e-01, 5.54067731e-01],\n",
              "       [2.56945640e-02, 9.74305391e-01],\n",
              "       [2.18277425e-02, 9.78172243e-01],\n",
              "       [7.55144119e-01, 2.44855821e-01],\n",
              "       [9.92374957e-01, 7.62499776e-03],\n",
              "       [9.36153173e-01, 6.38467968e-02],\n",
              "       [6.92229271e-01, 3.07770729e-01],\n",
              "       [3.32195610e-02, 9.66780365e-01],\n",
              "       [8.36965680e-01, 1.63034245e-01],\n",
              "       [9.40548182e-01, 5.94518706e-02],\n",
              "       [2.20681965e-01, 7.79318035e-01],\n",
              "       [1.91358272e-02, 9.80864048e-01],\n",
              "       [7.34733522e-01, 2.65266478e-01],\n",
              "       [9.47568953e-01, 5.24310060e-02],\n",
              "       [8.52643847e-01, 1.47356093e-01],\n",
              "       [2.22299963e-01, 7.77699947e-01],\n",
              "       [9.01995599e-01, 9.80043933e-02],\n",
              "       [9.81891274e-01, 1.81086715e-02],\n",
              "       [3.90836317e-03, 9.96091545e-01],\n",
              "       [5.59424162e-02, 9.44057584e-01],\n",
              "       [7.57576466e-01, 2.42423490e-01],\n",
              "       [9.59480762e-01, 4.05192189e-02],\n",
              "       [2.78356820e-02, 9.72164392e-01],\n",
              "       [4.78149801e-01, 5.21850228e-01],\n",
              "       [9.57271397e-01, 4.27285507e-02],\n",
              "       [9.87368762e-01, 1.26311015e-02],\n",
              "       [7.05895573e-02, 9.29410458e-01],\n",
              "       [9.78329122e-01, 2.16708202e-02],\n",
              "       [9.53980982e-01, 4.60189730e-02],\n",
              "       [5.29536828e-02, 9.47046340e-01],\n",
              "       [1.54951215e-01, 8.45048726e-01],\n",
              "       [2.86052916e-02, 9.71394777e-01],\n",
              "       [9.16876435e-01, 8.31235796e-02],\n",
              "       [7.03902543e-01, 2.96097428e-01],\n",
              "       [8.96504223e-01, 1.03495672e-01],\n",
              "       [3.68825644e-02, 9.63117421e-01],\n",
              "       [2.24290729e-01, 7.75709212e-01],\n",
              "       [6.87607378e-02, 9.31239247e-01],\n",
              "       [3.35404336e-01, 6.64595604e-01],\n",
              "       [6.99347794e-01, 3.00652266e-01],\n",
              "       [9.29322124e-01, 7.06778988e-02],\n",
              "       [6.65682316e-01, 3.34317595e-01],\n",
              "       [7.14308321e-01, 2.85691768e-01],\n",
              "       [7.54839333e-04, 9.99245167e-01],\n",
              "       [6.06193364e-01, 3.93806636e-01],\n",
              "       [7.68976565e-03, 9.92310286e-01],\n",
              "       [3.05825830e-01, 6.94174230e-01],\n",
              "       [9.66851830e-01, 3.31482589e-02],\n",
              "       [4.85261887e-01, 5.14738023e-01],\n",
              "       [9.90925252e-01, 9.07475781e-03],\n",
              "       [9.48044121e-01, 5.19558005e-02],\n",
              "       [9.98964071e-01, 1.03581278e-03],\n",
              "       [2.93608755e-02, 9.70639110e-01],\n",
              "       [1.12378094e-02, 9.88762259e-01],\n",
              "       [5.95386662e-02, 9.40461397e-01],\n",
              "       [9.96871114e-01, 3.12884967e-03],\n",
              "       [7.83702657e-02, 9.21629608e-01],\n",
              "       [5.35580337e-01, 4.64419663e-01],\n",
              "       [6.46502435e-01, 3.53497475e-01],\n",
              "       [4.65290807e-03, 9.95347083e-01],\n",
              "       [2.48215601e-01, 7.51784265e-01],\n",
              "       [9.88775432e-01, 1.12245604e-02],\n",
              "       [2.84659177e-01, 7.15340853e-01],\n",
              "       [2.05308363e-01, 7.94691563e-01],\n",
              "       [9.67689216e-01, 3.23108137e-02],\n",
              "       [3.92981648e-01, 6.07018411e-01],\n",
              "       [7.48130977e-01, 2.51869082e-01],\n",
              "       [9.86656368e-01, 1.33436872e-02],\n",
              "       [2.64190137e-03, 9.97357965e-01],\n",
              "       [9.66850400e-01, 3.31495963e-02],\n",
              "       [1.40159484e-02, 9.85983908e-01],\n",
              "       [6.53932512e-01, 3.46067458e-01],\n",
              "       [2.21604288e-01, 7.78395653e-01],\n",
              "       [1.27440840e-01, 8.72559249e-01],\n",
              "       [1.58654362e-01, 8.41345549e-01],\n",
              "       [9.77498829e-01, 2.25012396e-02],\n",
              "       [9.92131054e-01, 7.86898285e-03],\n",
              "       [5.08465022e-02, 9.49153483e-01],\n",
              "       [9.67368543e-01, 3.26314420e-02],\n",
              "       [3.61963034e-01, 6.38037026e-01],\n",
              "       [9.11925137e-01, 8.80748928e-02],\n",
              "       [8.46895456e-01, 1.53104663e-01],\n",
              "       [4.14958954e-01, 5.85041046e-01],\n",
              "       [1.19866468e-02, 9.88013327e-01],\n",
              "       [1.67223498e-01, 8.32776368e-01],\n",
              "       [2.16230869e-01, 7.83769071e-01],\n",
              "       [9.94973361e-01, 5.02654584e-03],\n",
              "       [3.57726887e-02, 9.64227259e-01],\n",
              "       [6.25858068e-01, 3.74141961e-01],\n",
              "       [6.06725365e-03, 9.93932724e-01],\n",
              "       [9.73033071e-01, 2.69668773e-02],\n",
              "       [9.92286026e-01, 7.71402149e-03],\n",
              "       [9.88997996e-01, 1.10020107e-02],\n",
              "       [1.13962278e-01, 8.86037648e-01],\n",
              "       [3.73665452e-01, 6.26334548e-01],\n",
              "       [9.82025683e-01, 1.79743133e-02],\n",
              "       [2.06576791e-02, 9.79342341e-01],\n",
              "       [9.19398606e-01, 8.06013718e-02],\n",
              "       [8.72844636e-01, 1.27155349e-01],\n",
              "       [6.31354600e-02, 9.36864495e-01],\n",
              "       [3.51837069e-01, 6.48163021e-01],\n",
              "       [9.76878345e-01, 2.31216662e-02],\n",
              "       [1.71065517e-02, 9.82893407e-01],\n",
              "       [4.65785205e-01, 5.34214854e-01],\n",
              "       [8.69120836e-01, 1.30879194e-01],\n",
              "       [6.66220635e-02, 9.33377922e-01],\n",
              "       [1.06689306e-02, 9.89331007e-01],\n",
              "       [9.66789603e-01, 3.32104564e-02],\n",
              "       [9.94247496e-01, 5.75251551e-03],\n",
              "       [8.94207060e-01, 1.05793022e-01],\n",
              "       [5.76797407e-03, 9.94231939e-01],\n",
              "       [1.74649078e-02, 9.82535183e-01],\n",
              "       [1.36697516e-01, 8.63302469e-01],\n",
              "       [5.67102909e-01, 4.32897061e-01],\n",
              "       [9.96601224e-01, 3.39878909e-03],\n",
              "       [9.65962827e-01, 3.40370722e-02],\n",
              "       [7.91721418e-02, 9.20827806e-01],\n",
              "       [4.32227373e-01, 5.67772627e-01],\n",
              "       [1.35664135e-01, 8.64335895e-01],\n",
              "       [9.92782831e-01, 7.21712597e-03],\n",
              "       [9.52609003e-01, 4.73910570e-02],\n",
              "       [1.27337441e-01, 8.72662485e-01],\n",
              "       [9.98039544e-01, 1.96034065e-03],\n",
              "       [9.73782897e-01, 2.62171105e-02],\n",
              "       [9.99862671e-01, 1.37400493e-04],\n",
              "       [6.03853405e-01, 3.96146625e-01],\n",
              "       [4.89174753e-01, 5.10825098e-01],\n",
              "       [9.46894944e-01, 5.31050526e-02],\n",
              "       [1.69520110e-01, 8.30479860e-01],\n",
              "       [9.90339637e-01, 9.66032129e-03],\n",
              "       [8.04872960e-02, 9.19512749e-01],\n",
              "       [9.93671477e-01, 6.32839371e-03],\n",
              "       [2.28568956e-01, 7.71431029e-01],\n",
              "       [9.85405385e-01, 1.45945884e-02],\n",
              "       [8.75632286e-01, 1.24367699e-01],\n",
              "       [9.93502021e-01, 6.49800245e-03],\n",
              "       [6.08184576e-01, 3.91815394e-01],\n",
              "       [2.30703838e-02, 9.76929605e-01],\n",
              "       [9.34368670e-01, 6.56313077e-02],\n",
              "       [5.74465036e-01, 4.25534874e-01],\n",
              "       [7.72270141e-03, 9.92277265e-01],\n",
              "       [7.01092258e-02, 9.29890692e-01],\n",
              "       [1.69133306e-01, 8.30866635e-01],\n",
              "       [9.87728715e-01, 1.22713521e-02],\n",
              "       [6.92482814e-02, 9.30751681e-01],\n",
              "       [9.38674867e-01, 6.13251515e-02],\n",
              "       [2.32646465e-02, 9.76735353e-01],\n",
              "       [5.18046260e-01, 4.81953681e-01],\n",
              "       [2.62494534e-01, 7.37505376e-01],\n",
              "       [9.98139501e-01, 1.86049344e-03],\n",
              "       [1.04765585e-02, 9.89523530e-01],\n",
              "       [4.77124862e-02, 9.52287436e-01],\n",
              "       [9.97949302e-01, 2.05065752e-03],\n",
              "       [8.38534176e-01, 1.61465794e-01],\n",
              "       [4.46968764e-01, 5.53031266e-01],\n",
              "       [9.80014920e-01, 1.99850779e-02],\n",
              "       [5.51517427e-01, 4.48482603e-01],\n",
              "       [9.87825155e-01, 1.21747339e-02],\n",
              "       [2.21985672e-02, 9.77801383e-01],\n",
              "       [8.73626053e-01, 1.26373991e-01],\n",
              "       [5.39274096e-01, 4.60725844e-01],\n",
              "       [5.45903947e-03, 9.94540989e-01],\n",
              "       [9.99734998e-01, 2.65054114e-04],\n",
              "       [1.08368225e-01, 8.91631663e-01],\n",
              "       [9.36733484e-01, 6.32664785e-02],\n",
              "       [9.89995003e-01, 1.00049283e-02],\n",
              "       [4.11522500e-02, 9.58847761e-01],\n",
              "       [1.75839081e-01, 8.24160874e-01],\n",
              "       [1.05253607e-02, 9.89474654e-01],\n",
              "       [2.31845565e-02, 9.76815462e-01],\n",
              "       [9.64688957e-01, 3.53110731e-02],\n",
              "       [1.36774052e-02, 9.86322582e-01],\n",
              "       [8.51349294e-01, 1.48650646e-01],\n",
              "       [9.03948843e-01, 9.60511789e-02],\n",
              "       [8.20155978e-01, 1.79843992e-01],\n",
              "       [9.74324644e-01, 2.56753098e-02],\n",
              "       [8.89036596e-01, 1.10963389e-01],\n",
              "       [8.13248083e-02, 9.18675244e-01],\n",
              "       [1.88622147e-01, 8.11377764e-01],\n",
              "       [6.83704615e-02, 9.31629479e-01],\n",
              "       [9.69267905e-01, 3.07319965e-02],\n",
              "       [1.60777420e-02, 9.83922124e-01],\n",
              "       [1.97629586e-01, 8.02370489e-01],\n",
              "       [9.06856775e-01, 9.31432024e-02],\n",
              "       [1.03414178e-01, 8.96585703e-01],\n",
              "       [8.58441174e-01, 1.41558796e-01],\n",
              "       [1.46181732e-01, 8.53818238e-01],\n",
              "       [9.97667611e-01, 2.33240705e-03],\n",
              "       [9.74840760e-01, 2.51592454e-02],\n",
              "       [5.94053566e-02, 9.40594614e-01],\n",
              "       [7.25694656e-01, 2.74305284e-01],\n",
              "       [9.29278135e-01, 7.07218349e-02],\n",
              "       [4.47581440e-01, 5.52418530e-01],\n",
              "       [4.18360755e-02, 9.58163917e-01],\n",
              "       [9.20571566e-01, 7.94284716e-02],\n",
              "       [9.78226483e-01, 2.17735525e-02],\n",
              "       [9.15568411e-01, 8.44314620e-02],\n",
              "       [9.35102344e-01, 6.48975894e-02],\n",
              "       [1.29091874e-01, 8.70908141e-01],\n",
              "       [1.03911906e-01, 8.96088123e-01],\n",
              "       [9.60817277e-01, 3.91827673e-02],\n",
              "       [8.04535687e-01, 1.95464298e-01],\n",
              "       [3.25833708e-01, 6.74166381e-01],\n",
              "       [9.26438067e-03, 9.90735650e-01],\n",
              "       [7.18058467e-01, 2.81941503e-01],\n",
              "       [3.33903097e-02, 9.66609716e-01],\n",
              "       [9.05552626e-01, 9.44472924e-02],\n",
              "       [9.88980591e-01, 1.10193631e-02],\n",
              "       [9.91493225e-01, 8.50676093e-03],\n",
              "       [3.26967031e-01, 6.73032939e-01],\n",
              "       [9.51077342e-02, 9.04892147e-01],\n",
              "       [1.82649940e-02, 9.81734931e-01],\n",
              "       [2.40481019e-01, 7.59518921e-01],\n",
              "       [7.07942009e-01, 2.92057991e-01],\n",
              "       [9.93213534e-01, 6.78651175e-03],\n",
              "       [2.17602432e-01, 7.82397568e-01],\n",
              "       [5.28315485e-01, 4.71684575e-01]], dtype=float32)"
            ]
          },
          "metadata": {},
          "execution_count": 148
        }
      ],
      "source": [
        "# Make predictions on the validation data (not used to train on)\n",
        "predictions = model.predict(val_data, verbose=1)\n",
        "predictions"
      ]
    },
    {
      "cell_type": "code",
      "execution_count": 149,
      "metadata": {
        "id": "o60IALTkWfRv"
      },
      "outputs": [],
      "source": [
        "def get_pred_label(prediction_probabilities):\n",
        "  \"\"\"\n",
        "  Turns an array of prediction probabilities into a label.\n",
        "  \"\"\"\n",
        "  return class_names[np.argmax(prediction_probabilities)]\n",
        "\n",
        "\n",
        "# Get a predicted label based on an array of prediction probabilities\n",
        "\n",
        "#for i in range(len(predictions)):\n",
        "  #pred_label = get_pred_label(predictions[i])\n",
        "  #print(pred_label)"
      ]
    },
    {
      "cell_type": "code",
      "execution_count": 150,
      "metadata": {
        "id": "nlWv1v4NlfzH",
        "colab": {
          "base_uri": "https://localhost:8080/"
        },
        "outputId": "90846a48-08e9-44d8-fa5d-cbd3d88e9877"
      },
      "outputs": [
        {
          "output_type": "execute_result",
          "data": {
            "text/plain": [
              "(array([[[7.0028016e-03, 7.0028016e-03, 7.0028016e-03],\n",
              "         [7.0028016e-03, 7.0028016e-03, 7.0028016e-03],\n",
              "         [7.0028016e-03, 7.0028016e-03, 7.0028016e-03],\n",
              "         ...,\n",
              "         [0.0000000e+00, 0.0000000e+00, 0.0000000e+00],\n",
              "         [6.1274513e-05, 6.1274513e-05, 6.1274513e-05],\n",
              "         [6.5563731e-03, 6.5563731e-03, 6.5563731e-03]],\n",
              " \n",
              "        [[3.9215689e-03, 3.9215689e-03, 3.9215689e-03],\n",
              "         [3.9215689e-03, 3.9215689e-03, 3.9215689e-03],\n",
              "         [3.9215689e-03, 3.9215689e-03, 3.9215689e-03],\n",
              "         ...,\n",
              "         [2.5210083e-03, 2.5210083e-03, 2.5210083e-03],\n",
              "         [6.1274513e-05, 6.1274513e-05, 6.1274513e-05],\n",
              "         [6.5563731e-03, 6.5563731e-03, 6.5563731e-03]],\n",
              " \n",
              "        [[2.8011287e-04, 2.8011287e-04, 2.8011287e-04],\n",
              "         [2.8011287e-04, 2.8011287e-04, 2.8011287e-04],\n",
              "         [2.8011287e-04, 2.8011287e-04, 2.8011287e-04],\n",
              "         ...,\n",
              "         [3.7421216e-03, 3.7421216e-03, 3.7421216e-03],\n",
              "         [6.1274513e-05, 6.1274513e-05, 6.1274513e-05],\n",
              "         [6.5563731e-03, 6.5563731e-03, 6.5563731e-03]],\n",
              " \n",
              "        ...,\n",
              " \n",
              "        [[2.8453270e-01, 2.8453270e-01, 2.8453270e-01],\n",
              "         [2.8847542e-01, 2.8847542e-01, 2.8847542e-01],\n",
              "         [3.5073972e-01, 3.5073972e-01, 3.5073972e-01],\n",
              "         ...,\n",
              "         [3.9215689e-03, 3.9215689e-03, 3.9215689e-03],\n",
              "         [7.7818632e-03, 7.7818632e-03, 7.7818632e-03],\n",
              "         [1.4749193e-03, 1.4749193e-03, 1.4749193e-03]],\n",
              " \n",
              "        [[2.8253222e-01, 2.8253222e-01, 2.8253222e-01],\n",
              "         [3.0966830e-01, 3.0966830e-01, 3.0966830e-01],\n",
              "         [3.4974173e-01, 3.4974173e-01, 3.4974173e-01],\n",
              "         ...,\n",
              "         [3.9215689e-03, 3.9215689e-03, 3.9215689e-03],\n",
              "         [7.7818632e-03, 7.7818632e-03, 7.7818632e-03],\n",
              "         [1.2867649e-03, 1.2867649e-03, 1.2867649e-03]],\n",
              " \n",
              "        [[2.7076384e-01, 2.7076384e-01, 2.7076384e-01],\n",
              "         [2.8660631e-01, 2.8660631e-01, 2.8660631e-01],\n",
              "         [3.4797817e-01, 3.4797817e-01, 3.4797817e-01],\n",
              "         ...,\n",
              "         [2.8142203e-03, 2.8142203e-03, 2.8142203e-03],\n",
              "         [7.7818632e-03, 7.7818632e-03, 7.7818632e-03],\n",
              "         [1.2867649e-03, 1.2867649e-03, 1.2867649e-03]]], dtype=float32),\n",
              " 'No Finding')"
            ]
          },
          "metadata": {},
          "execution_count": 150
        }
      ],
      "source": [
        "def unbatchify(data):\n",
        "  \"\"\"\n",
        "  Takes a batched dataset of (image, label) Tensors and returns separete arrays of images and labels.\n",
        "  \"\"\"\n",
        "  images = []\n",
        "  labels = []\n",
        "  # Loop through unbatched data\n",
        "  for image, label in data.unbatch().as_numpy_iterator():\n",
        "    images.append(image)\n",
        "    labels.append(class_names[np.argmax(label)])\n",
        "\n",
        "  return images, labels\n",
        "\n",
        "# Unbatchify the validation data\n",
        "val_images, val_labels = unbatchify(val_data)\n",
        "val_images[0], val_labels[0]"
      ]
    },
    {
      "cell_type": "code",
      "execution_count": 151,
      "metadata": {
        "id": "faOvCUvtBm5r"
      },
      "outputs": [],
      "source": [
        "images_ = []\n",
        "labels_ = []\n",
        "\n",
        "# Loop through unbatched data\n",
        "for image, label in val_data.unbatch().as_numpy_iterator():\n",
        "  images_.append(image)\n",
        "  labels_.append(label)"
      ]
    },
    {
      "cell_type": "code",
      "execution_count": 152,
      "metadata": {
        "colab": {
          "base_uri": "https://localhost:8080/",
          "height": 35
        },
        "id": "sa2340JvBpTX",
        "outputId": "2ffa43a0-4f67-4a12-fc1f-758668b9544a"
      },
      "outputs": [
        {
          "output_type": "execute_result",
          "data": {
            "text/plain": [
              "'No Finding'"
            ],
            "application/vnd.google.colaboratory.intrinsic+json": {
              "type": "string"
            }
          },
          "metadata": {},
          "execution_count": 152
        }
      ],
      "source": [
        "get_pred_label(labels_[0])"
      ]
    },
    {
      "cell_type": "code",
      "execution_count": 153,
      "metadata": {
        "colab": {
          "base_uri": "https://localhost:8080/",
          "height": 35
        },
        "id": "ywAimJ8FBqzb",
        "outputId": "ebc985fd-f6a4-4eb4-a75f-c8dbc8140874"
      },
      "outputs": [
        {
          "output_type": "execute_result",
          "data": {
            "text/plain": [
              "'No Finding'"
            ],
            "application/vnd.google.colaboratory.intrinsic+json": {
              "type": "string"
            }
          },
          "metadata": {},
          "execution_count": 153
        }
      ],
      "source": [
        "get_pred_label(predictions[0])"
      ]
    },
    {
      "cell_type": "code",
      "execution_count": 154,
      "metadata": {
        "id": "IEDLqM5IDvin"
      },
      "outputs": [],
      "source": [
        "def plot_pred(prediction_probabilities, labels, images, n=1):\n",
        "  \"\"\"\n",
        "  View the prediction, ground truth and image for sample n\n",
        "  \"\"\"\n",
        "  pred_prob, true_label, image = prediction_probabilities[n], labels[n], images[n]\n",
        "\n",
        "  # Get the pred label\n",
        "  pred_label = get_pred_label(pred_prob)\n",
        "\n",
        "  # Plot image & remove ticks\n",
        "  plt.imshow(image)\n",
        "  plt.xticks([])\n",
        "  plt.yticks([])\n",
        "\n",
        "  # Change the colour of the title depending on if the prediction is right or wrong\n",
        "\n",
        "  if pred_label == true_label:\n",
        "    color = \"green\"\n",
        "  else:\n",
        "    color = \"red\"\n",
        "\n",
        "  # Change plot title to be predicted, probability of prediction and truth label\n",
        "  plt.title(\"Result: {} {:2.0f}% Expected: {}\".format(pred_label,\n",
        "                                    np.max(pred_prob)*100,\n",
        "                                    true_label),\n",
        "                                    color=color)"
      ]
    },
    {
      "cell_type": "code",
      "execution_count": 155,
      "metadata": {
        "colab": {
          "base_uri": "https://localhost:8080/",
          "height": 428
        },
        "id": "YZ59KvRdDx8o",
        "outputId": "995e451f-e998-411c-c355-43b1d7b0f2bb"
      },
      "outputs": [
        {
          "output_type": "display_data",
          "data": {
            "text/plain": [
              "<Figure size 640x480 with 1 Axes>"
            ],
            "image/png": "[encoded data removed]"
          },
          "metadata": {}
        }
      ],
      "source": [
        "plot_pred(prediction_probabilities=predictions,\n",
        "          labels=val_labels,\n",
        "          images=val_images,n=10)"
      ]
    },
    {
      "cell_type": "code",
      "execution_count": 156,
      "metadata": {
        "id": "_ZIGyw7NDzLQ"
      },
      "outputs": [],
      "source": [
        "# Create a function to save a model\n",
        "def save_model(model, suffix=None):\n",
        "  \"\"\"\n",
        "  Saves a given model in a models directory and appends a suffix (string).\n",
        "  \"\"\"\n",
        "  # Create a model directory pathname with current time\n",
        "  modeldir = os.path.join(\"drive/MyDrive/Deep-Learning/models\",\n",
        "                          datetime.datetime.now().strftime(\"%Y%m%d-%H%M%s\"))\n",
        "  model_path = modeldir + \"-\" + suffix + \".h5\" # save format of model\n",
        "  print(f\"Saving model to: {model_path}...\")\n",
        "  model.save(model_path)\n",
        "  return model_path"
      ]
    },
    {
      "cell_type": "code",
      "execution_count": 157,
      "metadata": {
        "id": "3FB0sXNpD3g7"
      },
      "outputs": [],
      "source": [
        "# Create a function to load a trained model\n",
        "def load_model(model_path):\n",
        "  \"\"\"\n",
        "  Loads a saved model from a specified path.\n",
        "  \"\"\"\n",
        "  print(f'Loading saved model from: {model_path}')\n",
        "  model = tf.keras.models.load_model(model_path,\n",
        "                                     custom_objects={\"KerasLayer\": hub.KerasLayer})\n",
        "  return model"
      ]
    },
    {
      "cell_type": "code",
      "execution_count": 158,
      "metadata": {
        "colab": {
          "base_uri": "https://localhost:8080/",
          "height": 53
        },
        "id": "PmHbSPgaD4Nn",
        "outputId": "43094d59-a64f-4a35-f754-b48a0afb0a3b"
      },
      "outputs": [
        {
          "output_type": "stream",
          "name": "stdout",
          "text": [
            "Saving model to: drive/MyDrive/Deep-Learning/models/20230424-14531682348011-chesxpert-vgg16-balanced-final-Adam.h5...\n"
          ]
        },
        {
          "output_type": "execute_result",
          "data": {
            "text/plain": [
              "'drive/MyDrive/Deep-Learning/models/20230424-14531682348011-chesxpert-vgg16-balanced-final-Adam.h5'"
            ],
            "application/vnd.google.colaboratory.intrinsic+json": {
              "type": "string"
            }
          },
          "metadata": {},
          "execution_count": 158
        }
      ],
      "source": [
        "# Save our model trained on 1000 images\n",
        "save_model(model, suffix=\"chesxpert-vgg16-balanced-final-Adam\")"
      ]
    },
    {
      "cell_type": "code",
      "execution_count": 159,
      "metadata": {
        "colab": {
          "base_uri": "https://localhost:8080/"
        },
        "id": "p5mJajlPD9kk",
        "outputId": "b8bfb016-17da-4484-ccea-34b94a9b3844"
      },
      "outputs": [
        {
          "output_type": "stream",
          "name": "stdout",
          "text": [
            "Loading saved model from: drive/MyDrive/Deep-Learning/models/20230424-14531682348011-chesxpert-vgg16-balanced-final-Adam.h5\n"
          ]
        }
      ],
      "source": [
        "# Load a trained model\n",
        "loaded_images_model = load_model(\"drive/MyDrive/Deep-Learning/models/20230424-14531682348011-chesxpert-vgg16-balanced-final-Adam.h5\")"
      ]
    },
    {
      "cell_type": "code",
      "execution_count": 160,
      "metadata": {
        "colab": {
          "base_uri": "https://localhost:8080/"
        },
        "id": "Mft-Vz3IEJlv",
        "outputId": "f7e0a76e-08dd-4434-b066-08c5e8ae1d15"
      },
      "outputs": [
        {
          "output_type": "stream",
          "name": "stdout",
          "text": [
            "25/25 [==============================] - 265s 10s/step - loss: 0.3658 - accuracy: 0.8525\n"
          ]
        },
        {
          "output_type": "execute_result",
          "data": {
            "text/plain": [
              "[0.36582180857658386, 0.8525000214576721]"
            ]
          },
          "metadata": {},
          "execution_count": 160
        }
      ],
      "source": [
        "# Evaluate the pre-saved model\n",
        "model.evaluate(val_data)"
      ]
    },
    {
      "cell_type": "code",
      "execution_count": 161,
      "metadata": {
        "colab": {
          "base_uri": "https://localhost:8080/"
        },
        "id": "x04jPsQ3ELWA",
        "outputId": "6b8fe9b5-b1d3-4fe2-a3b6-e7999f2a3158"
      },
      "outputs": [
        {
          "output_type": "stream",
          "name": "stdout",
          "text": [
            "25/25 [==============================] - 256s 10s/step - loss: 0.3658 - accuracy: 0.8525\n"
          ]
        },
        {
          "output_type": "execute_result",
          "data": {
            "text/plain": [
              "[0.36582180857658386, 0.8525000214576721]"
            ]
          },
          "metadata": {},
          "execution_count": 161
        }
      ],
      "source": [
        "# Evaluate the laoded model\n",
        "loaded_images_model.evaluate(val_data)"
      ]
    },
    {
      "cell_type": "code",
      "execution_count": 162,
      "metadata": {
        "id": "wjDaLdtKFa-K"
      },
      "outputs": [],
      "source": [
        "df_test = pd.read_csv(\"/content/drive/MyDrive/Deep-Learning/CheXpert-v1.0-small/valid.csv\")"
      ]
    },
    {
      "cell_type": "code",
      "source": [
        "# Define the three classes you want to use\n",
        "class_names = [\"No Finding\", \"Pleural Effusion\"]\n",
        "#class_names = [\"Lung Opacity\", \"Support Devices\"]\n",
        "\n",
        "# Filter the dataframe to only include samples from these classes\n",
        "df_test_filtered = df_test[df_test[class_names].notna().any(axis=1)][class_names + [\"Path\"]]\n",
        "\n",
        "# Shuffle the dataframe and reset the index\n",
        "df_test_filtered = df_test_filtered.sample(frac=1).reset_index(drop=True)"
      ],
      "metadata": {
        "id": "ue3c0IMmnK00"
      },
      "execution_count": 163,
      "outputs": []
    },
    {
      "cell_type": "code",
      "source": [
        "# Create a new column called \"class\" that contains the name of the class for each row\n",
        "#df_filtered['class'] = ''\n",
        "#df_filtered.loc[df_filtered['No Finding'] == 1, 'class'] = 'No Finding'\n",
        "#df_filtered.loc[df_filtered['Pleural Effusion'] == 1, 'class'] = 'Pleural Effusion'\n",
        "\n",
        "# Filter out the rows that have a 1 in both \"No Finding\" and \"Pleural Effusion\"\n",
        "df_test_filtered = df_test_filtered.loc[(df_test_filtered['No Finding'] == 1) | (df_test_filtered['Pleural Effusion'] == 1)]\n",
        "df_test_filtered = df_test_filtered.sample(frac=1).reset_index(drop=True)\n"
      ],
      "metadata": {
        "id": "h3gBeqXmnUc8"
      },
      "execution_count": 164,
      "outputs": []
    },
    {
      "cell_type": "code",
      "source": [
        "df_test_filtered"
      ],
      "metadata": {
        "colab": {
          "base_uri": "https://localhost:8080/",
          "height": 424
        },
        "id": "9HCBsQwcnYQD",
        "outputId": "47407ad9-cc1c-41d8-a995-2cee95def195"
      },
      "execution_count": 165,
      "outputs": [
        {
          "output_type": "execute_result",
          "data": {
            "text/plain": [
              "     No Finding  Pleural Effusion  \\\n",
              "0           0.0               1.0   \n",
              "1           0.0               1.0   \n",
              "2           1.0               0.0   \n",
              "3           1.0               0.0   \n",
              "4           0.0               1.0   \n",
              "..          ...               ...   \n",
              "100         0.0               1.0   \n",
              "101         0.0               1.0   \n",
              "102         0.0               1.0   \n",
              "103         0.0               1.0   \n",
              "104         1.0               0.0   \n",
              "\n",
              "                                                  Path  \n",
              "0    CheXpert-v1.0-small/valid/patient64635/study1/...  \n",
              "1    CheXpert-v1.0-small/valid/patient64639/study1/...  \n",
              "2    CheXpert-v1.0-small/valid/patient64599/study1/...  \n",
              "3    CheXpert-v1.0-small/valid/patient64696/study1/...  \n",
              "4    CheXpert-v1.0-small/valid/patient64676/study1/...  \n",
              "..                                                 ...  \n",
              "100  CheXpert-v1.0-small/valid/patient64612/study1/...  \n",
              "101  CheXpert-v1.0-small/valid/patient64614/study1/...  \n",
              "102  CheXpert-v1.0-small/valid/patient64676/study1/...  \n",
              "103  CheXpert-v1.0-small/valid/patient64692/study1/...  \n",
              "104  CheXpert-v1.0-small/valid/patient64556/study1/...  \n",
              "\n",
              "[105 rows x 3 columns]"
            ],
            "text/html": [
              "\n",
              "  <div id=\"df-5a7031f8-70ec-4cee-b3da-116b55762ec8\">\n",
              "    <div class=\"colab-df-container\">\n",
              "      <div>\n",
              "<style scoped>\n",
              "    .dataframe tbody tr th:only-of-type {\n",
              "        vertical-align: middle;\n",
              "    }\n",
              "\n",
              "    .dataframe tbody tr th {\n",
              "        vertical-align: top;\n",
              "    }\n",
              "\n",
              "    .dataframe thead th {\n",
              "        text-align: right;\n",
              "    }\n",
              "</style>\n",
              "<table border=\"1\" class=\"dataframe\">\n",
              "  <thead>\n",
              "    <tr style=\"text-align: right;\">\n",
              "      <th></th>\n",
              "      <th>No Finding</th>\n",
              "      <th>Pleural Effusion</th>\n",
              "      <th>Path</th>\n",
              "    </tr>\n",
              "  </thead>\n",
              "  <tbody>\n",
              "    <tr>\n",
              "      <th>0</th>\n",
              "      <td>0.0</td>\n",
              "      <td>1.0</td>\n",
              "      <td>CheXpert-v1.0-small/valid/patient64635/study1/...</td>\n",
              "    </tr>\n",
              "    <tr>\n",
              "      <th>1</th>\n",
              "      <td>0.0</td>\n",
              "      <td>1.0</td>\n",
              "      <td>CheXpert-v1.0-small/valid/patient64639/study1/...</td>\n",
              "    </tr>\n",
              "    <tr>\n",
              "      <th>2</th>\n",
              "      <td>1.0</td>\n",
              "      <td>0.0</td>\n",
              "      <td>CheXpert-v1.0-small/valid/patient64599/study1/...</td>\n",
              "    </tr>\n",
              "    <tr>\n",
              "      <th>3</th>\n",
              "      <td>1.0</td>\n",
              "      <td>0.0</td>\n",
              "      <td>CheXpert-v1.0-small/valid/patient64696/study1/...</td>\n",
              "    </tr>\n",
              "    <tr>\n",
              "      <th>4</th>\n",
              "      <td>0.0</td>\n",
              "      <td>1.0</td>\n",
              "      <td>CheXpert-v1.0-small/valid/patient64676/study1/...</td>\n",
              "    </tr>\n",
              "    <tr>\n",
              "      <th>...</th>\n",
              "      <td>...</td>\n",
              "      <td>...</td>\n",
              "      <td>...</td>\n",
              "    </tr>\n",
              "    <tr>\n",
              "      <th>100</th>\n",
              "      <td>0.0</td>\n",
              "      <td>1.0</td>\n",
              "      <td>CheXpert-v1.0-small/valid/patient64612/study1/...</td>\n",
              "    </tr>\n",
              "    <tr>\n",
              "      <th>101</th>\n",
              "      <td>0.0</td>\n",
              "      <td>1.0</td>\n",
              "      <td>CheXpert-v1.0-small/valid/patient64614/study1/...</td>\n",
              "    </tr>\n",
              "    <tr>\n",
              "      <th>102</th>\n",
              "      <td>0.0</td>\n",
              "      <td>1.0</td>\n",
              "      <td>CheXpert-v1.0-small/valid/patient64676/study1/...</td>\n",
              "    </tr>\n",
              "    <tr>\n",
              "      <th>103</th>\n",
              "      <td>0.0</td>\n",
              "      <td>1.0</td>\n",
              "      <td>CheXpert-v1.0-small/valid/patient64692/study1/...</td>\n",
              "    </tr>\n",
              "    <tr>\n",
              "      <th>104</th>\n",
              "      <td>1.0</td>\n",
              "      <td>0.0</td>\n",
              "      <td>CheXpert-v1.0-small/valid/patient64556/study1/...</td>\n",
              "    </tr>\n",
              "  </tbody>\n",
              "</table>\n",
              "<p>105 rows × 3 columns</p>\n",
              "</div>\n",
              "      <button class=\"colab-df-convert\" onclick=\"convertToInteractive('df-5a7031f8-70ec-4cee-b3da-116b55762ec8')\"\n",
              "              title=\"Convert this dataframe to an interactive table.\"\n",
              "              style=\"display:none;\">\n",
              "        \n",
              "  <svg xmlns=\"http://www.w3.org/2000/svg\" height=\"24px\"viewBox=\"0 0 24 24\"\n",
              "       width=\"24px\">\n",
              "    <path d=\"M0 0h24v24H0V0z\" fill=\"none\"/>\n",
              "    <path d=\"M18.56 5.44l.94 2.06.94-2.06 2.06-.94-2.06-.94-.94-2.06-.94 2.06-2.06.94zm-11 1L8.5 8.5l.94-2.06 2.06-.94-2.06-.94L8.5 2.5l-.94 2.06-2.06.94zm10 10l.94 2.06.94-2.06 2.06-.94-2.06-.94-.94-2.06-.94 2.06-2.06.94z\"/><path d=\"M17.41 7.96l-1.37-1.37c-.4-.4-.92-.59-1.43-.59-.52 0-1.04.2-1.43.59L10.3 9.45l-7.72 7.72c-.78.78-.78 2.05 0 2.83L4 21.41c.39.39.9.59 1.41.59.51 0 1.02-.2 1.41-.59l7.78-7.78 2.81-2.81c.8-.78.8-2.07 0-2.86zM5.41 20L4 18.59l7.72-7.72 1.47 1.35L5.41 20z\"/>\n",
              "  </svg>\n",
              "      </button>\n",
              "      \n",
              "  <style>\n",
              "    .colab-df-container {\n",
              "      display:flex;\n",
              "      flex-wrap:wrap;\n",
              "      gap: 12px;\n",
              "    }\n",
              "\n",
              "    .colab-df-convert {\n",
              "      background-color: #E8F0FE;\n",
              "      border: none;\n",
              "      border-radius: 50%;\n",
              "      cursor: pointer;\n",
              "      display: none;\n",
              "      fill: #1967D2;\n",
              "      height: 32px;\n",
              "      padding: 0 0 0 0;\n",
              "      width: 32px;\n",
              "    }\n",
              "\n",
              "    .colab-df-convert:hover {\n",
              "      background-color: #E2EBFA;\n",
              "      box-shadow: 0px 1px 2px rgba(60, 64, 67, 0.3), 0px 1px 3px 1px rgba(60, 64, 67, 0.15);\n",
              "      fill: #174EA6;\n",
              "    }\n",
              "\n",
              "    [theme=dark] .colab-df-convert {\n",
              "      background-color: #3B4455;\n",
              "      fill: #D2E3FC;\n",
              "    }\n",
              "\n",
              "    [theme=dark] .colab-df-convert:hover {\n",
              "      background-color: #434B5C;\n",
              "      box-shadow: 0px 1px 3px 1px rgba(0, 0, 0, 0.15);\n",
              "      filter: drop-shadow(0px 1px 2px rgba(0, 0, 0, 0.3));\n",
              "      fill: #FFFFFF;\n",
              "    }\n",
              "  </style>\n",
              "\n",
              "      <script>\n",
              "        const buttonEl =\n",
              "          document.querySelector('#df-5a7031f8-70ec-4cee-b3da-116b55762ec8 button.colab-df-convert');\n",
              "        buttonEl.style.display =\n",
              "          google.colab.kernel.accessAllowed ? 'block' : 'none';\n",
              "\n",
              "        async function convertToInteractive(key) {\n",
              "          const element = document.querySelector('#df-5a7031f8-70ec-4cee-b3da-116b55762ec8');\n",
              "          const dataTable =\n",
              "            await google.colab.kernel.invokeFunction('convertToInteractive',\n",
              "                                                     [key], {});\n",
              "          if (!dataTable) return;\n",
              "\n",
              "          const docLinkHtml = 'Like what you see? Visit the ' +\n",
              "            '<a target=\"_blank\" href=https://colab.research.google.com/notebooks/data_table.ipynb>data table notebook</a>'\n",
              "            + ' to learn more about interactive tables.';\n",
              "          element.innerHTML = '';\n",
              "          dataTable['output_type'] = 'display_data';\n",
              "          await google.colab.output.renderOutput(dataTable, element);\n",
              "          const docLink = document.createElement('div');\n",
              "          docLink.innerHTML = docLinkHtml;\n",
              "          element.appendChild(docLink);\n",
              "        }\n",
              "      </script>\n",
              "    </div>\n",
              "  </div>\n",
              "  "
            ]
          },
          "metadata": {},
          "execution_count": 165
        }
      ]
    },
    {
      "cell_type": "code",
      "source": [
        "df_sampled_test = df_test_filtered.groupby(['No Finding', 'Pleural Effusion']).apply(lambda x: x.sample(n=35, random_state=42)).reset_index(drop=True)"
      ],
      "metadata": {
        "id": "aFdvVxsKOuue"
      },
      "execution_count": 171,
      "outputs": []
    },
    {
      "cell_type": "code",
      "source": [
        "df_sampled_test"
      ],
      "metadata": {
        "colab": {
          "base_uri": "https://localhost:8080/",
          "height": 424
        },
        "id": "rylu8FblO7HN",
        "outputId": "e69b369c-e2bd-4cd3-97fc-dac67f7a4f24"
      },
      "execution_count": 172,
      "outputs": [
        {
          "output_type": "execute_result",
          "data": {
            "text/plain": [
              "    No Finding  Pleural Effusion  \\\n",
              "0          0.0               1.0   \n",
              "1          0.0               1.0   \n",
              "2          0.0               1.0   \n",
              "3          0.0               1.0   \n",
              "4          0.0               1.0   \n",
              "..         ...               ...   \n",
              "65         1.0               0.0   \n",
              "66         1.0               0.0   \n",
              "67         1.0               0.0   \n",
              "68         1.0               0.0   \n",
              "69         1.0               0.0   \n",
              "\n",
              "                                                 Path  \n",
              "0   CheXpert-v1.0-small/valid/patient64703/study1/...  \n",
              "1   CheXpert-v1.0-small/valid/patient64545/study1/...  \n",
              "2   CheXpert-v1.0-small/valid/patient64668/study1/...  \n",
              "3   CheXpert-v1.0-small/valid/patient64571/study1/...  \n",
              "4   CheXpert-v1.0-small/valid/patient64652/study1/...  \n",
              "..                                                ...  \n",
              "65  CheXpert-v1.0-small/valid/patient64615/study1/...  \n",
              "66  CheXpert-v1.0-small/valid/patient64556/study1/...  \n",
              "67  CheXpert-v1.0-small/valid/patient64599/study1/...  \n",
              "68  CheXpert-v1.0-small/valid/patient64595/study1/...  \n",
              "69  CheXpert-v1.0-small/valid/patient64716/study1/...  \n",
              "\n",
              "[70 rows x 3 columns]"
            ],
            "text/html": [
              "\n",
              "  <div id=\"df-dfe823a4-1ef6-47a4-9fed-a287752067a8\">\n",
              "    <div class=\"colab-df-container\">\n",
              "      <div>\n",
              "<style scoped>\n",
              "    .dataframe tbody tr th:only-of-type {\n",
              "        vertical-align: middle;\n",
              "    }\n",
              "\n",
              "    .dataframe tbody tr th {\n",
              "        vertical-align: top;\n",
              "    }\n",
              "\n",
              "    .dataframe thead th {\n",
              "        text-align: right;\n",
              "    }\n",
              "</style>\n",
              "<table border=\"1\" class=\"dataframe\">\n",
              "  <thead>\n",
              "    <tr style=\"text-align: right;\">\n",
              "      <th></th>\n",
              "      <th>No Finding</th>\n",
              "      <th>Pleural Effusion</th>\n",
              "      <th>Path</th>\n",
              "    </tr>\n",
              "  </thead>\n",
              "  <tbody>\n",
              "    <tr>\n",
              "      <th>0</th>\n",
              "      <td>0.0</td>\n",
              "      <td>1.0</td>\n",
              "      <td>CheXpert-v1.0-small/valid/patient64703/study1/...</td>\n",
              "    </tr>\n",
              "    <tr>\n",
              "      <th>1</th>\n",
              "      <td>0.0</td>\n",
              "      <td>1.0</td>\n",
              "      <td>CheXpert-v1.0-small/valid/patient64545/study1/...</td>\n",
              "    </tr>\n",
              "    <tr>\n",
              "      <th>2</th>\n",
              "      <td>0.0</td>\n",
              "      <td>1.0</td>\n",
              "      <td>CheXpert-v1.0-small/valid/patient64668/study1/...</td>\n",
              "    </tr>\n",
              "    <tr>\n",
              "      <th>3</th>\n",
              "      <td>0.0</td>\n",
              "      <td>1.0</td>\n",
              "      <td>CheXpert-v1.0-small/valid/patient64571/study1/...</td>\n",
              "    </tr>\n",
              "    <tr>\n",
              "      <th>4</th>\n",
              "      <td>0.0</td>\n",
              "      <td>1.0</td>\n",
              "      <td>CheXpert-v1.0-small/valid/patient64652/study1/...</td>\n",
              "    </tr>\n",
              "    <tr>\n",
              "      <th>...</th>\n",
              "      <td>...</td>\n",
              "      <td>...</td>\n",
              "      <td>...</td>\n",
              "    </tr>\n",
              "    <tr>\n",
              "      <th>65</th>\n",
              "      <td>1.0</td>\n",
              "      <td>0.0</td>\n",
              "      <td>CheXpert-v1.0-small/valid/patient64615/study1/...</td>\n",
              "    </tr>\n",
              "    <tr>\n",
              "      <th>66</th>\n",
              "      <td>1.0</td>\n",
              "      <td>0.0</td>\n",
              "      <td>CheXpert-v1.0-small/valid/patient64556/study1/...</td>\n",
              "    </tr>\n",
              "    <tr>\n",
              "      <th>67</th>\n",
              "      <td>1.0</td>\n",
              "      <td>0.0</td>\n",
              "      <td>CheXpert-v1.0-small/valid/patient64599/study1/...</td>\n",
              "    </tr>\n",
              "    <tr>\n",
              "      <th>68</th>\n",
              "      <td>1.0</td>\n",
              "      <td>0.0</td>\n",
              "      <td>CheXpert-v1.0-small/valid/patient64595/study1/...</td>\n",
              "    </tr>\n",
              "    <tr>\n",
              "      <th>69</th>\n",
              "      <td>1.0</td>\n",
              "      <td>0.0</td>\n",
              "      <td>CheXpert-v1.0-small/valid/patient64716/study1/...</td>\n",
              "    </tr>\n",
              "  </tbody>\n",
              "</table>\n",
              "<p>70 rows × 3 columns</p>\n",
              "</div>\n",
              "      <button class=\"colab-df-convert\" onclick=\"convertToInteractive('df-dfe823a4-1ef6-47a4-9fed-a287752067a8')\"\n",
              "              title=\"Convert this dataframe to an interactive table.\"\n",
              "              style=\"display:none;\">\n",
              "        \n",
              "  <svg xmlns=\"http://www.w3.org/2000/svg\" height=\"24px\"viewBox=\"0 0 24 24\"\n",
              "       width=\"24px\">\n",
              "    <path d=\"M0 0h24v24H0V0z\" fill=\"none\"/>\n",
              "    <path d=\"M18.56 5.44l.94 2.06.94-2.06 2.06-.94-2.06-.94-.94-2.06-.94 2.06-2.06.94zm-11 1L8.5 8.5l.94-2.06 2.06-.94-2.06-.94L8.5 2.5l-.94 2.06-2.06.94zm10 10l.94 2.06.94-2.06 2.06-.94-2.06-.94-.94-2.06-.94 2.06-2.06.94z\"/><path d=\"M17.41 7.96l-1.37-1.37c-.4-.4-.92-.59-1.43-.59-.52 0-1.04.2-1.43.59L10.3 9.45l-7.72 7.72c-.78.78-.78 2.05 0 2.83L4 21.41c.39.39.9.59 1.41.59.51 0 1.02-.2 1.41-.59l7.78-7.78 2.81-2.81c.8-.78.8-2.07 0-2.86zM5.41 20L4 18.59l7.72-7.72 1.47 1.35L5.41 20z\"/>\n",
              "  </svg>\n",
              "      </button>\n",
              "      \n",
              "  <style>\n",
              "    .colab-df-container {\n",
              "      display:flex;\n",
              "      flex-wrap:wrap;\n",
              "      gap: 12px;\n",
              "    }\n",
              "\n",
              "    .colab-df-convert {\n",
              "      background-color: #E8F0FE;\n",
              "      border: none;\n",
              "      border-radius: 50%;\n",
              "      cursor: pointer;\n",
              "      display: none;\n",
              "      fill: #1967D2;\n",
              "      height: 32px;\n",
              "      padding: 0 0 0 0;\n",
              "      width: 32px;\n",
              "    }\n",
              "\n",
              "    .colab-df-convert:hover {\n",
              "      background-color: #E2EBFA;\n",
              "      box-shadow: 0px 1px 2px rgba(60, 64, 67, 0.3), 0px 1px 3px 1px rgba(60, 64, 67, 0.15);\n",
              "      fill: #174EA6;\n",
              "    }\n",
              "\n",
              "    [theme=dark] .colab-df-convert {\n",
              "      background-color: #3B4455;\n",
              "      fill: #D2E3FC;\n",
              "    }\n",
              "\n",
              "    [theme=dark] .colab-df-convert:hover {\n",
              "      background-color: #434B5C;\n",
              "      box-shadow: 0px 1px 3px 1px rgba(0, 0, 0, 0.15);\n",
              "      filter: drop-shadow(0px 1px 2px rgba(0, 0, 0, 0.3));\n",
              "      fill: #FFFFFF;\n",
              "    }\n",
              "  </style>\n",
              "\n",
              "      <script>\n",
              "        const buttonEl =\n",
              "          document.querySelector('#df-dfe823a4-1ef6-47a4-9fed-a287752067a8 button.colab-df-convert');\n",
              "        buttonEl.style.display =\n",
              "          google.colab.kernel.accessAllowed ? 'block' : 'none';\n",
              "\n",
              "        async function convertToInteractive(key) {\n",
              "          const element = document.querySelector('#df-dfe823a4-1ef6-47a4-9fed-a287752067a8');\n",
              "          const dataTable =\n",
              "            await google.colab.kernel.invokeFunction('convertToInteractive',\n",
              "                                                     [key], {});\n",
              "          if (!dataTable) return;\n",
              "\n",
              "          const docLinkHtml = 'Like what you see? Visit the ' +\n",
              "            '<a target=\"_blank\" href=https://colab.research.google.com/notebooks/data_table.ipynb>data table notebook</a>'\n",
              "            + ' to learn more about interactive tables.';\n",
              "          element.innerHTML = '';\n",
              "          dataTable['output_type'] = 'display_data';\n",
              "          await google.colab.output.renderOutput(dataTable, element);\n",
              "          const docLink = document.createElement('div');\n",
              "          docLink.innerHTML = docLinkHtml;\n",
              "          element.appendChild(docLink);\n",
              "        }\n",
              "      </script>\n",
              "    </div>\n",
              "  </div>\n",
              "  "
            ]
          },
          "metadata": {},
          "execution_count": 172
        }
      ]
    },
    {
      "cell_type": "code",
      "source": [
        "# Create pathnames from image path\n",
        "#filenames = []\n",
        "test_filenames = [\"drive/MyDrive/Deep-Learning/\" + fname for fname in df_sampled_test[\"Path\"]]\n",
        "\n",
        "# Check the first 10\n",
        "test_filenames[:10]"
      ],
      "metadata": {
        "colab": {
          "base_uri": "https://localhost:8080/"
        },
        "id": "bHQkyUsgnbm1",
        "outputId": "6a9b7004-e06d-4237-fc67-16a93ce04d32"
      },
      "execution_count": 173,
      "outputs": [
        {
          "output_type": "execute_result",
          "data": {
            "text/plain": [
              "['drive/MyDrive/Deep-Learning/CheXpert-v1.0-small/valid/patient64703/study1/view1_frontal.jpg',\n",
              " 'drive/MyDrive/Deep-Learning/CheXpert-v1.0-small/valid/patient64545/study1/view1_frontal.jpg',\n",
              " 'drive/MyDrive/Deep-Learning/CheXpert-v1.0-small/valid/patient64668/study1/view1_frontal.jpg',\n",
              " 'drive/MyDrive/Deep-Learning/CheXpert-v1.0-small/valid/patient64571/study1/view1_frontal.jpg',\n",
              " 'drive/MyDrive/Deep-Learning/CheXpert-v1.0-small/valid/patient64652/study1/view1_frontal.jpg',\n",
              " 'drive/MyDrive/Deep-Learning/CheXpert-v1.0-small/valid/patient64596/study1/view1_frontal.jpg',\n",
              " 'drive/MyDrive/Deep-Learning/CheXpert-v1.0-small/valid/patient64688/study1/view1_frontal.jpg',\n",
              " 'drive/MyDrive/Deep-Learning/CheXpert-v1.0-small/valid/patient64673/study1/view1_frontal.jpg',\n",
              " 'drive/MyDrive/Deep-Learning/CheXpert-v1.0-small/valid/patient64614/study1/view1_frontal.jpg',\n",
              " 'drive/MyDrive/Deep-Learning/CheXpert-v1.0-small/valid/patient64670/study1/view1_frontal.jpg']"
            ]
          },
          "metadata": {},
          "execution_count": 173
        }
      ]
    },
    {
      "cell_type": "code",
      "source": [
        "\n",
        "array_images_test_classification =[]\n",
        "\n",
        "for j in range(len(df_sampled_test[\"Path\"])):\n",
        "  path = df_sampled_test[\"Path\"][j]\n",
        "  classifications = []\n",
        "  for i in class_names:\n",
        "    classifications.append(df_sampled_test[i][j])\n",
        "  array_images_test_classification.append(classifications)"
      ],
      "metadata": {
        "id": "Sc5_9EB75QKb"
      },
      "execution_count": 174,
      "outputs": []
    },
    {
      "cell_type": "code",
      "source": [
        "\n",
        "array_images_classification[:2]\n",
        "# one-hot encode the labels\n",
        "labels_test = np.array(array_images_test_classification)"
      ],
      "metadata": {
        "id": "nuYaAt1B64oJ"
      },
      "execution_count": 175,
      "outputs": []
    },
    {
      "cell_type": "code",
      "source": [
        "len(labels_test), len(test_filenames)"
      ],
      "metadata": {
        "colab": {
          "base_uri": "https://localhost:8080/"
        },
        "id": "RodAN85R65ag",
        "outputId": "44e3d4b1-c398-4ba7-aab5-d9b62ed3454c"
      },
      "execution_count": 176,
      "outputs": [
        {
          "output_type": "execute_result",
          "data": {
            "text/plain": [
              "(70, 70)"
            ]
          },
          "metadata": {},
          "execution_count": 176
        }
      ]
    },
    {
      "cell_type": "code",
      "source": [
        "labels_test_formatted = []\n",
        "\n",
        "for i in labels_test:\n",
        "  if i[0] == 1:\n",
        "    labels_test_formatted.append(class_names[0])\n",
        "  elif i[1] == 1:\n",
        "    labels_test_formatted.append(class_names[1])\n",
        "  else:\n",
        "    labels_test_formatted.append(class_names[0])\n",
        "    "
      ],
      "metadata": {
        "id": "ZdWjl6ZK7Ast"
      },
      "execution_count": 177,
      "outputs": []
    },
    {
      "cell_type": "code",
      "source": [
        "labels_test_formatted[:5]"
      ],
      "metadata": {
        "colab": {
          "base_uri": "https://localhost:8080/"
        },
        "id": "Micouvdb7M7w",
        "outputId": "26a1cdc2-f929-4676-fa2d-06d986c9fa63"
      },
      "execution_count": 178,
      "outputs": [
        {
          "output_type": "execute_result",
          "data": {
            "text/plain": [
              "['Pleural Effusion',\n",
              " 'Pleural Effusion',\n",
              " 'Pleural Effusion',\n",
              " 'Pleural Effusion',\n",
              " 'Pleural Effusion']"
            ]
          },
          "metadata": {},
          "execution_count": 178
        }
      ]
    },
    {
      "cell_type": "code",
      "execution_count": 179,
      "metadata": {
        "colab": {
          "base_uri": "https://localhost:8080/"
        },
        "id": "hux2W1nREaSR",
        "outputId": "6145ba2a-3dc5-427d-9dbb-de17f37723d5"
      },
      "outputs": [
        {
          "output_type": "stream",
          "name": "stdout",
          "text": [
            "Creating test data batches...\n",
            "<class 'tensorflow.python.framework.ops.Tensor'>\n"
          ]
        }
      ],
      "source": [
        "# Create test data batch\n",
        "test_data = create_data_batches(test_filenames, test_data=True)"
      ]
    },
    {
      "cell_type": "code",
      "execution_count": 180,
      "metadata": {
        "colab": {
          "base_uri": "https://localhost:8080/"
        },
        "id": "6sb8EBH8Ecby",
        "outputId": "fec08a2b-a293-45eb-9b1c-281b4c204c38"
      },
      "outputs": [
        {
          "output_type": "stream",
          "name": "stdout",
          "text": [
            "5/5 [==============================] - 51s 9s/step\n"
          ]
        }
      ],
      "source": [
        "# Make predictions on test data batch using the loaded full model\n",
        "test_predictions = loaded_images_model.predict(test_data,\n",
        "                                             verbose=1)"
      ]
    },
    {
      "cell_type": "code",
      "execution_count": 181,
      "metadata": {
        "colab": {
          "base_uri": "https://localhost:8080/"
        },
        "id": "zjjo6kjGEeZ_",
        "outputId": "09d7dac0-8126-4c9a-c935-d1e42a70355c"
      },
      "outputs": [
        {
          "output_type": "execute_result",
          "data": {
            "text/plain": [
              "['Pleural Effusion',\n",
              " 'Pleural Effusion',\n",
              " 'No Finding',\n",
              " 'Pleural Effusion',\n",
              " 'Pleural Effusion',\n",
              " 'No Finding',\n",
              " 'Pleural Effusion',\n",
              " 'Pleural Effusion',\n",
              " 'No Finding',\n",
              " 'Pleural Effusion',\n",
              " 'No Finding',\n",
              " 'Pleural Effusion',\n",
              " 'No Finding',\n",
              " 'Pleural Effusion',\n",
              " 'Pleural Effusion',\n",
              " 'Pleural Effusion',\n",
              " 'Pleural Effusion',\n",
              " 'Pleural Effusion',\n",
              " 'Pleural Effusion',\n",
              " 'Pleural Effusion',\n",
              " 'No Finding',\n",
              " 'Pleural Effusion',\n",
              " 'No Finding',\n",
              " 'No Finding',\n",
              " 'Pleural Effusion',\n",
              " 'Pleural Effusion',\n",
              " 'Pleural Effusion',\n",
              " 'Pleural Effusion',\n",
              " 'Pleural Effusion',\n",
              " 'Pleural Effusion',\n",
              " 'Pleural Effusion',\n",
              " 'Pleural Effusion',\n",
              " 'Pleural Effusion',\n",
              " 'Pleural Effusion',\n",
              " 'Pleural Effusion',\n",
              " 'No Finding',\n",
              " 'No Finding',\n",
              " 'No Finding',\n",
              " 'No Finding',\n",
              " 'No Finding',\n",
              " 'No Finding',\n",
              " 'No Finding',\n",
              " 'No Finding',\n",
              " 'No Finding',\n",
              " 'No Finding',\n",
              " 'No Finding',\n",
              " 'No Finding',\n",
              " 'No Finding',\n",
              " 'No Finding',\n",
              " 'No Finding',\n",
              " 'No Finding',\n",
              " 'No Finding',\n",
              " 'No Finding',\n",
              " 'No Finding',\n",
              " 'No Finding',\n",
              " 'No Finding',\n",
              " 'Pleural Effusion',\n",
              " 'No Finding',\n",
              " 'No Finding',\n",
              " 'No Finding',\n",
              " 'No Finding',\n",
              " 'No Finding',\n",
              " 'No Finding',\n",
              " 'No Finding',\n",
              " 'No Finding',\n",
              " 'No Finding',\n",
              " 'No Finding',\n",
              " 'No Finding',\n",
              " 'No Finding',\n",
              " 'No Finding']"
            ]
          },
          "metadata": {},
          "execution_count": 181
        }
      ],
      "source": [
        "# Get custom image predictions labels\n",
        "custom_pred_labels = [get_pred_label(test_predictions[i]) for i in range(len(test_predictions))]\n",
        "custom_pred_labels"
      ]
    },
    {
      "cell_type": "code",
      "execution_count": 182,
      "metadata": {
        "id": "6xMXMeasF5r3"
      },
      "outputs": [],
      "source": [
        "# Get custom images (our unbatchify() function won't work since there aren't labels... maybe we could fix this later)\n",
        "custom_images = []\n",
        "# Loop through unbatched data\n",
        "for image in test_data.unbatch().as_numpy_iterator():\n",
        "  custom_images.append(image)"
      ]
    },
    {
      "cell_type": "code",
      "execution_count": 183,
      "metadata": {
        "colab": {
          "base_uri": "https://localhost:8080/",
          "height": 192
        },
        "id": "GQclpksCF62M",
        "outputId": "52a68584-2656-4433-aeb0-427d27d655f3"
      },
      "outputs": [
        {
          "output_type": "display_data",
          "data": {
            "text/plain": [
              "<Figure size 1000x1000 with 5 Axes>"
            ],
            "image/png": "[encoded data removed]"
          },
          "metadata": {}
        }
      ],
      "source": [
        "# Check custom image predictions \n",
        "plt.figure(figsize=(10, 10))\n",
        "for i, image in enumerate(custom_images):\n",
        "  if i+1 == 6:\n",
        "    break\n",
        "  plt.subplot(1, 5, i+1)\n",
        "  plt.xticks([])\n",
        "  plt.yticks([])\n",
        "  plt.title(custom_pred_labels[i])\n",
        "  plt.imshow(image)"
      ]
    },
    {
      "cell_type": "code",
      "execution_count": 184,
      "metadata": {
        "id": "9W7vAKOhEGpt",
        "colab": {
          "base_uri": "https://localhost:8080/"
        },
        "outputId": "dd8bb135-6f20-4d88-8230-65583b4dde7f"
      },
      "outputs": [
        {
          "output_type": "execute_result",
          "data": {
            "text/plain": [
              "(70, 70)"
            ]
          },
          "metadata": {},
          "execution_count": 184
        }
      ],
      "source": [
        "len(custom_pred_labels), len(labels_test_formatted)"
      ]
    },
    {
      "cell_type": "code",
      "source": [
        "from sklearn.metrics import accuracy_score\n",
        "\n",
        "true_labels = labels_test_formatted\n",
        "predicted_labels = custom_pred_labels\n",
        "\n",
        "accuracy = accuracy_score(labels_test_formatted, custom_pred_labels)\n",
        "\n",
        "print(\"Accuracy: {:.2f}%\".format(accuracy * 100))\n"
      ],
      "metadata": {
        "colab": {
          "base_uri": "https://localhost:8080/"
        },
        "id": "ztrcPjoX73Hb",
        "outputId": "eccebba3-b1a9-44fb-a1a1-1442d7a79824"
      },
      "execution_count": 185,
      "outputs": [
        {
          "output_type": "stream",
          "name": "stdout",
          "text": [
            "Accuracy: 87.14%\n"
          ]
        }
      ]
    },
    {
      "cell_type": "code",
      "source": [
        "import numpy as np\n",
        "import matplotlib.pyplot as plt\n",
        "\n",
        "# Count the number of true \"No Finding\" and \"Pleural Effusion\" labels\n",
        "true_counts = {\"No Finding\": 0, \"Pleural Effusion\": 0}\n",
        "for label in true_labels:\n",
        "    true_counts[label] += 1\n",
        "\n",
        "# Count the number of predicted \"No Finding\" and \"Pleural Effusion\" labels\n",
        "pred_counts = {\"No Finding\": 0, \"Pleural Effusion\": 0}\n",
        "for i, label in enumerate(predicted_labels):\n",
        "    if label == \"No Finding\":\n",
        "        pred_counts[\"No Finding\"] += 1\n",
        "    else:\n",
        "        pred_counts[\"Pleural Effusion\"] += 1\n",
        "\n",
        "# Create a bar chart\n",
        "labels = [\"No Finding\", \"Pleural Effusion\"]\n",
        "true_values = [true_counts[\"No Finding\"], true_counts[\"Pleural Effusion\"]]\n",
        "pred_values = [pred_counts[\"No Finding\"], pred_counts[\"Pleural Effusion\"]]\n",
        "x = np.arange(len(labels))\n",
        "width = 0.35\n",
        "fig, ax = plt.subplots()\n",
        "rects1 = ax.bar(x - width/2, true_values, width, label='True')\n",
        "rects2 = ax.bar(x + width/2, pred_values, width, label='Predicted')\n",
        "ax.set_ylabel('Number of Images')\n",
        "ax.set_xticks(x)\n",
        "ax.set_xticklabels(labels)\n",
        "ax.legend()\n",
        "fig.tight_layout()\n",
        "plt.show()\n"
      ],
      "metadata": {
        "colab": {
          "base_uri": "https://localhost:8080/",
          "height": 487
        },
        "id": "8yTyC6dR76NU",
        "outputId": "b618fcd5-6573-4521-d93d-6152b448a5a9"
      },
      "execution_count": 186,
      "outputs": [
        {
          "output_type": "display_data",
          "data": {
            "text/plain": [
              "<Figure size 640x480 with 1 Axes>"
            ],
            "image/png": "[encoded data removed]"
          },
          "metadata": {}
        }
      ]
    },
    {
      "cell_type": "code",
      "source": [],
      "metadata": {
        "id": "PR7pRc_GzgUC"
      },
      "execution_count": null,
      "outputs": []
    }
  ],
  "metadata": {
    "colab": {
      "provenance": []
    },
    "gpuClass": "standard",
    "kernelspec": {
      "display_name": "Python 3",
      "name": "python3"
    },
    "language_info": {
      "name": "python"
    }
  },
  "nbformat": 4,
  "nbformat_minor": 0
}